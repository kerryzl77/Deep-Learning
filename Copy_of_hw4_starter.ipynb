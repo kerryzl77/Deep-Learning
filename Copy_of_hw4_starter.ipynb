{
  "metadata": {
    "kernelspec": {
      "display_name": "Python 3",
      "name": "python3"
    },
    "language_info": {
      "pygments_lexer": "ipython3",
      "nbconvert_exporter": "python",
      "version": "3.6.4",
      "file_extension": ".py",
      "codemirror_mode": {
        "name": "ipython",
        "version": 3
      },
      "name": "python",
      "mimetype": "text/x-python"
    },
    "kaggle": {
      "accelerator": "none",
      "dataSources": [],
      "dockerImageVersionId": 30558,
      "isInternetEnabled": false,
      "language": "python",
      "sourceType": "notebook",
      "isGpuEnabled": false
    },
    "colab": {
      "provenance": [],
      "machine_shape": "hm",
      "gpuType": "A100",
      "include_colab_link": true
    },
    "accelerator": "GPU",
    "widgets": {
      "application/vnd.jupyter.widget-state+json": {
        "3decdb9938584df3b63ade325639fc86": {
          "model_module": "@jupyter-widgets/controls",
          "model_name": "HBoxModel",
          "model_module_version": "1.5.0",
          "state": {
            "_dom_classes": [],
            "_model_module": "@jupyter-widgets/controls",
            "_model_module_version": "1.5.0",
            "_model_name": "HBoxModel",
            "_view_count": null,
            "_view_module": "@jupyter-widgets/controls",
            "_view_module_version": "1.5.0",
            "_view_name": "HBoxView",
            "box_style": "",
            "children": [
              "IPY_MODEL_254d679970b74d42ba8045dc7f3b462d",
              "IPY_MODEL_a319c75479d64d21a11f8ce08114dd53",
              "IPY_MODEL_b0d71f2e977a45cfa1072ab5614eddce"
            ],
            "layout": "IPY_MODEL_e887966f60be48a4a7c2a2a062ecffa1"
          }
        },
        "254d679970b74d42ba8045dc7f3b462d": {
          "model_module": "@jupyter-widgets/controls",
          "model_name": "HTMLModel",
          "model_module_version": "1.5.0",
          "state": {
            "_dom_classes": [],
            "_model_module": "@jupyter-widgets/controls",
            "_model_module_version": "1.5.0",
            "_model_name": "HTMLModel",
            "_view_count": null,
            "_view_module": "@jupyter-widgets/controls",
            "_view_module_version": "1.5.0",
            "_view_name": "HTMLView",
            "description": "",
            "description_tooltip": null,
            "layout": "IPY_MODEL_00cea53b007247e69bcdb49e72860493",
            "placeholder": "​",
            "style": "IPY_MODEL_65882ca6604c4f36bb754d3e456e10df",
            "value": "tokenizer_config.json: 100%"
          }
        },
        "a319c75479d64d21a11f8ce08114dd53": {
          "model_module": "@jupyter-widgets/controls",
          "model_name": "FloatProgressModel",
          "model_module_version": "1.5.0",
          "state": {
            "_dom_classes": [],
            "_model_module": "@jupyter-widgets/controls",
            "_model_module_version": "1.5.0",
            "_model_name": "FloatProgressModel",
            "_view_count": null,
            "_view_module": "@jupyter-widgets/controls",
            "_view_module_version": "1.5.0",
            "_view_name": "ProgressView",
            "bar_style": "success",
            "description": "",
            "description_tooltip": null,
            "layout": "IPY_MODEL_e1354688872f4d1cb7c09e985fb04382",
            "max": 26,
            "min": 0,
            "orientation": "horizontal",
            "style": "IPY_MODEL_25b5e6c6d7c741e3a222af59d2b32b47",
            "value": 26
          }
        },
        "b0d71f2e977a45cfa1072ab5614eddce": {
          "model_module": "@jupyter-widgets/controls",
          "model_name": "HTMLModel",
          "model_module_version": "1.5.0",
          "state": {
            "_dom_classes": [],
            "_model_module": "@jupyter-widgets/controls",
            "_model_module_version": "1.5.0",
            "_model_name": "HTMLModel",
            "_view_count": null,
            "_view_module": "@jupyter-widgets/controls",
            "_view_module_version": "1.5.0",
            "_view_name": "HTMLView",
            "description": "",
            "description_tooltip": null,
            "layout": "IPY_MODEL_5aab1c0923fa487982ae8dbf3ffbda9c",
            "placeholder": "​",
            "style": "IPY_MODEL_6fcb251605b44d0ca5a41aaafcae5866",
            "value": " 26.0/26.0 [00:00&lt;00:00, 1.68kB/s]"
          }
        },
        "e887966f60be48a4a7c2a2a062ecffa1": {
          "model_module": "@jupyter-widgets/base",
          "model_name": "LayoutModel",
          "model_module_version": "1.2.0",
          "state": {
            "_model_module": "@jupyter-widgets/base",
            "_model_module_version": "1.2.0",
            "_model_name": "LayoutModel",
            "_view_count": null,
            "_view_module": "@jupyter-widgets/base",
            "_view_module_version": "1.2.0",
            "_view_name": "LayoutView",
            "align_content": null,
            "align_items": null,
            "align_self": null,
            "border": null,
            "bottom": null,
            "display": null,
            "flex": null,
            "flex_flow": null,
            "grid_area": null,
            "grid_auto_columns": null,
            "grid_auto_flow": null,
            "grid_auto_rows": null,
            "grid_column": null,
            "grid_gap": null,
            "grid_row": null,
            "grid_template_areas": null,
            "grid_template_columns": null,
            "grid_template_rows": null,
            "height": null,
            "justify_content": null,
            "justify_items": null,
            "left": null,
            "margin": null,
            "max_height": null,
            "max_width": null,
            "min_height": null,
            "min_width": null,
            "object_fit": null,
            "object_position": null,
            "order": null,
            "overflow": null,
            "overflow_x": null,
            "overflow_y": null,
            "padding": null,
            "right": null,
            "top": null,
            "visibility": null,
            "width": null
          }
        },
        "00cea53b007247e69bcdb49e72860493": {
          "model_module": "@jupyter-widgets/base",
          "model_name": "LayoutModel",
          "model_module_version": "1.2.0",
          "state": {
            "_model_module": "@jupyter-widgets/base",
            "_model_module_version": "1.2.0",
            "_model_name": "LayoutModel",
            "_view_count": null,
            "_view_module": "@jupyter-widgets/base",
            "_view_module_version": "1.2.0",
            "_view_name": "LayoutView",
            "align_content": null,
            "align_items": null,
            "align_self": null,
            "border": null,
            "bottom": null,
            "display": null,
            "flex": null,
            "flex_flow": null,
            "grid_area": null,
            "grid_auto_columns": null,
            "grid_auto_flow": null,
            "grid_auto_rows": null,
            "grid_column": null,
            "grid_gap": null,
            "grid_row": null,
            "grid_template_areas": null,
            "grid_template_columns": null,
            "grid_template_rows": null,
            "height": null,
            "justify_content": null,
            "justify_items": null,
            "left": null,
            "margin": null,
            "max_height": null,
            "max_width": null,
            "min_height": null,
            "min_width": null,
            "object_fit": null,
            "object_position": null,
            "order": null,
            "overflow": null,
            "overflow_x": null,
            "overflow_y": null,
            "padding": null,
            "right": null,
            "top": null,
            "visibility": null,
            "width": null
          }
        },
        "65882ca6604c4f36bb754d3e456e10df": {
          "model_module": "@jupyter-widgets/controls",
          "model_name": "DescriptionStyleModel",
          "model_module_version": "1.5.0",
          "state": {
            "_model_module": "@jupyter-widgets/controls",
            "_model_module_version": "1.5.0",
            "_model_name": "DescriptionStyleModel",
            "_view_count": null,
            "_view_module": "@jupyter-widgets/base",
            "_view_module_version": "1.2.0",
            "_view_name": "StyleView",
            "description_width": ""
          }
        },
        "e1354688872f4d1cb7c09e985fb04382": {
          "model_module": "@jupyter-widgets/base",
          "model_name": "LayoutModel",
          "model_module_version": "1.2.0",
          "state": {
            "_model_module": "@jupyter-widgets/base",
            "_model_module_version": "1.2.0",
            "_model_name": "LayoutModel",
            "_view_count": null,
            "_view_module": "@jupyter-widgets/base",
            "_view_module_version": "1.2.0",
            "_view_name": "LayoutView",
            "align_content": null,
            "align_items": null,
            "align_self": null,
            "border": null,
            "bottom": null,
            "display": null,
            "flex": null,
            "flex_flow": null,
            "grid_area": null,
            "grid_auto_columns": null,
            "grid_auto_flow": null,
            "grid_auto_rows": null,
            "grid_column": null,
            "grid_gap": null,
            "grid_row": null,
            "grid_template_areas": null,
            "grid_template_columns": null,
            "grid_template_rows": null,
            "height": null,
            "justify_content": null,
            "justify_items": null,
            "left": null,
            "margin": null,
            "max_height": null,
            "max_width": null,
            "min_height": null,
            "min_width": null,
            "object_fit": null,
            "object_position": null,
            "order": null,
            "overflow": null,
            "overflow_x": null,
            "overflow_y": null,
            "padding": null,
            "right": null,
            "top": null,
            "visibility": null,
            "width": null
          }
        },
        "25b5e6c6d7c741e3a222af59d2b32b47": {
          "model_module": "@jupyter-widgets/controls",
          "model_name": "ProgressStyleModel",
          "model_module_version": "1.5.0",
          "state": {
            "_model_module": "@jupyter-widgets/controls",
            "_model_module_version": "1.5.0",
            "_model_name": "ProgressStyleModel",
            "_view_count": null,
            "_view_module": "@jupyter-widgets/base",
            "_view_module_version": "1.2.0",
            "_view_name": "StyleView",
            "bar_color": null,
            "description_width": ""
          }
        },
        "5aab1c0923fa487982ae8dbf3ffbda9c": {
          "model_module": "@jupyter-widgets/base",
          "model_name": "LayoutModel",
          "model_module_version": "1.2.0",
          "state": {
            "_model_module": "@jupyter-widgets/base",
            "_model_module_version": "1.2.0",
            "_model_name": "LayoutModel",
            "_view_count": null,
            "_view_module": "@jupyter-widgets/base",
            "_view_module_version": "1.2.0",
            "_view_name": "LayoutView",
            "align_content": null,
            "align_items": null,
            "align_self": null,
            "border": null,
            "bottom": null,
            "display": null,
            "flex": null,
            "flex_flow": null,
            "grid_area": null,
            "grid_auto_columns": null,
            "grid_auto_flow": null,
            "grid_auto_rows": null,
            "grid_column": null,
            "grid_gap": null,
            "grid_row": null,
            "grid_template_areas": null,
            "grid_template_columns": null,
            "grid_template_rows": null,
            "height": null,
            "justify_content": null,
            "justify_items": null,
            "left": null,
            "margin": null,
            "max_height": null,
            "max_width": null,
            "min_height": null,
            "min_width": null,
            "object_fit": null,
            "object_position": null,
            "order": null,
            "overflow": null,
            "overflow_x": null,
            "overflow_y": null,
            "padding": null,
            "right": null,
            "top": null,
            "visibility": null,
            "width": null
          }
        },
        "6fcb251605b44d0ca5a41aaafcae5866": {
          "model_module": "@jupyter-widgets/controls",
          "model_name": "DescriptionStyleModel",
          "model_module_version": "1.5.0",
          "state": {
            "_model_module": "@jupyter-widgets/controls",
            "_model_module_version": "1.5.0",
            "_model_name": "DescriptionStyleModel",
            "_view_count": null,
            "_view_module": "@jupyter-widgets/base",
            "_view_module_version": "1.2.0",
            "_view_name": "StyleView",
            "description_width": ""
          }
        },
        "4bf71cd0f9034cd89fcc45e2570cf488": {
          "model_module": "@jupyter-widgets/controls",
          "model_name": "HBoxModel",
          "model_module_version": "1.5.0",
          "state": {
            "_dom_classes": [],
            "_model_module": "@jupyter-widgets/controls",
            "_model_module_version": "1.5.0",
            "_model_name": "HBoxModel",
            "_view_count": null,
            "_view_module": "@jupyter-widgets/controls",
            "_view_module_version": "1.5.0",
            "_view_name": "HBoxView",
            "box_style": "",
            "children": [
              "IPY_MODEL_e3974a6cd2ef44fa9bbeb0cf84a3b668",
              "IPY_MODEL_60930dd814a741ea9f45432bf3f760f5",
              "IPY_MODEL_39504a516cde4edb9dd2a1769fbef92f"
            ],
            "layout": "IPY_MODEL_e0a3954469414ec78246614e9c257243"
          }
        },
        "e3974a6cd2ef44fa9bbeb0cf84a3b668": {
          "model_module": "@jupyter-widgets/controls",
          "model_name": "HTMLModel",
          "model_module_version": "1.5.0",
          "state": {
            "_dom_classes": [],
            "_model_module": "@jupyter-widgets/controls",
            "_model_module_version": "1.5.0",
            "_model_name": "HTMLModel",
            "_view_count": null,
            "_view_module": "@jupyter-widgets/controls",
            "_view_module_version": "1.5.0",
            "_view_name": "HTMLView",
            "description": "",
            "description_tooltip": null,
            "layout": "IPY_MODEL_01e33eb2fb4145fa869c9f72950cd0d4",
            "placeholder": "​",
            "style": "IPY_MODEL_047c205acce340638b5110d0eea4e887",
            "value": "config.json: 100%"
          }
        },
        "60930dd814a741ea9f45432bf3f760f5": {
          "model_module": "@jupyter-widgets/controls",
          "model_name": "FloatProgressModel",
          "model_module_version": "1.5.0",
          "state": {
            "_dom_classes": [],
            "_model_module": "@jupyter-widgets/controls",
            "_model_module_version": "1.5.0",
            "_model_name": "FloatProgressModel",
            "_view_count": null,
            "_view_module": "@jupyter-widgets/controls",
            "_view_module_version": "1.5.0",
            "_view_name": "ProgressView",
            "bar_style": "success",
            "description": "",
            "description_tooltip": null,
            "layout": "IPY_MODEL_8e02113290f24b6ca15c5eaba6f51092",
            "max": 718,
            "min": 0,
            "orientation": "horizontal",
            "style": "IPY_MODEL_eafd6b16b951482896a4687bfb6c8d35",
            "value": 718
          }
        },
        "39504a516cde4edb9dd2a1769fbef92f": {
          "model_module": "@jupyter-widgets/controls",
          "model_name": "HTMLModel",
          "model_module_version": "1.5.0",
          "state": {
            "_dom_classes": [],
            "_model_module": "@jupyter-widgets/controls",
            "_model_module_version": "1.5.0",
            "_model_name": "HTMLModel",
            "_view_count": null,
            "_view_module": "@jupyter-widgets/controls",
            "_view_module_version": "1.5.0",
            "_view_name": "HTMLView",
            "description": "",
            "description_tooltip": null,
            "layout": "IPY_MODEL_6fab0a086f714f0e97571fe6712b2532",
            "placeholder": "​",
            "style": "IPY_MODEL_fcdec52be21045d3b60ad0f1131cc900",
            "value": " 718/718 [00:00&lt;00:00, 63.9kB/s]"
          }
        },
        "e0a3954469414ec78246614e9c257243": {
          "model_module": "@jupyter-widgets/base",
          "model_name": "LayoutModel",
          "model_module_version": "1.2.0",
          "state": {
            "_model_module": "@jupyter-widgets/base",
            "_model_module_version": "1.2.0",
            "_model_name": "LayoutModel",
            "_view_count": null,
            "_view_module": "@jupyter-widgets/base",
            "_view_module_version": "1.2.0",
            "_view_name": "LayoutView",
            "align_content": null,
            "align_items": null,
            "align_self": null,
            "border": null,
            "bottom": null,
            "display": null,
            "flex": null,
            "flex_flow": null,
            "grid_area": null,
            "grid_auto_columns": null,
            "grid_auto_flow": null,
            "grid_auto_rows": null,
            "grid_column": null,
            "grid_gap": null,
            "grid_row": null,
            "grid_template_areas": null,
            "grid_template_columns": null,
            "grid_template_rows": null,
            "height": null,
            "justify_content": null,
            "justify_items": null,
            "left": null,
            "margin": null,
            "max_height": null,
            "max_width": null,
            "min_height": null,
            "min_width": null,
            "object_fit": null,
            "object_position": null,
            "order": null,
            "overflow": null,
            "overflow_x": null,
            "overflow_y": null,
            "padding": null,
            "right": null,
            "top": null,
            "visibility": null,
            "width": null
          }
        },
        "01e33eb2fb4145fa869c9f72950cd0d4": {
          "model_module": "@jupyter-widgets/base",
          "model_name": "LayoutModel",
          "model_module_version": "1.2.0",
          "state": {
            "_model_module": "@jupyter-widgets/base",
            "_model_module_version": "1.2.0",
            "_model_name": "LayoutModel",
            "_view_count": null,
            "_view_module": "@jupyter-widgets/base",
            "_view_module_version": "1.2.0",
            "_view_name": "LayoutView",
            "align_content": null,
            "align_items": null,
            "align_self": null,
            "border": null,
            "bottom": null,
            "display": null,
            "flex": null,
            "flex_flow": null,
            "grid_area": null,
            "grid_auto_columns": null,
            "grid_auto_flow": null,
            "grid_auto_rows": null,
            "grid_column": null,
            "grid_gap": null,
            "grid_row": null,
            "grid_template_areas": null,
            "grid_template_columns": null,
            "grid_template_rows": null,
            "height": null,
            "justify_content": null,
            "justify_items": null,
            "left": null,
            "margin": null,
            "max_height": null,
            "max_width": null,
            "min_height": null,
            "min_width": null,
            "object_fit": null,
            "object_position": null,
            "order": null,
            "overflow": null,
            "overflow_x": null,
            "overflow_y": null,
            "padding": null,
            "right": null,
            "top": null,
            "visibility": null,
            "width": null
          }
        },
        "047c205acce340638b5110d0eea4e887": {
          "model_module": "@jupyter-widgets/controls",
          "model_name": "DescriptionStyleModel",
          "model_module_version": "1.5.0",
          "state": {
            "_model_module": "@jupyter-widgets/controls",
            "_model_module_version": "1.5.0",
            "_model_name": "DescriptionStyleModel",
            "_view_count": null,
            "_view_module": "@jupyter-widgets/base",
            "_view_module_version": "1.2.0",
            "_view_name": "StyleView",
            "description_width": ""
          }
        },
        "8e02113290f24b6ca15c5eaba6f51092": {
          "model_module": "@jupyter-widgets/base",
          "model_name": "LayoutModel",
          "model_module_version": "1.2.0",
          "state": {
            "_model_module": "@jupyter-widgets/base",
            "_model_module_version": "1.2.0",
            "_model_name": "LayoutModel",
            "_view_count": null,
            "_view_module": "@jupyter-widgets/base",
            "_view_module_version": "1.2.0",
            "_view_name": "LayoutView",
            "align_content": null,
            "align_items": null,
            "align_self": null,
            "border": null,
            "bottom": null,
            "display": null,
            "flex": null,
            "flex_flow": null,
            "grid_area": null,
            "grid_auto_columns": null,
            "grid_auto_flow": null,
            "grid_auto_rows": null,
            "grid_column": null,
            "grid_gap": null,
            "grid_row": null,
            "grid_template_areas": null,
            "grid_template_columns": null,
            "grid_template_rows": null,
            "height": null,
            "justify_content": null,
            "justify_items": null,
            "left": null,
            "margin": null,
            "max_height": null,
            "max_width": null,
            "min_height": null,
            "min_width": null,
            "object_fit": null,
            "object_position": null,
            "order": null,
            "overflow": null,
            "overflow_x": null,
            "overflow_y": null,
            "padding": null,
            "right": null,
            "top": null,
            "visibility": null,
            "width": null
          }
        },
        "eafd6b16b951482896a4687bfb6c8d35": {
          "model_module": "@jupyter-widgets/controls",
          "model_name": "ProgressStyleModel",
          "model_module_version": "1.5.0",
          "state": {
            "_model_module": "@jupyter-widgets/controls",
            "_model_module_version": "1.5.0",
            "_model_name": "ProgressStyleModel",
            "_view_count": null,
            "_view_module": "@jupyter-widgets/base",
            "_view_module_version": "1.2.0",
            "_view_name": "StyleView",
            "bar_color": null,
            "description_width": ""
          }
        },
        "6fab0a086f714f0e97571fe6712b2532": {
          "model_module": "@jupyter-widgets/base",
          "model_name": "LayoutModel",
          "model_module_version": "1.2.0",
          "state": {
            "_model_module": "@jupyter-widgets/base",
            "_model_module_version": "1.2.0",
            "_model_name": "LayoutModel",
            "_view_count": null,
            "_view_module": "@jupyter-widgets/base",
            "_view_module_version": "1.2.0",
            "_view_name": "LayoutView",
            "align_content": null,
            "align_items": null,
            "align_self": null,
            "border": null,
            "bottom": null,
            "display": null,
            "flex": null,
            "flex_flow": null,
            "grid_area": null,
            "grid_auto_columns": null,
            "grid_auto_flow": null,
            "grid_auto_rows": null,
            "grid_column": null,
            "grid_gap": null,
            "grid_row": null,
            "grid_template_areas": null,
            "grid_template_columns": null,
            "grid_template_rows": null,
            "height": null,
            "justify_content": null,
            "justify_items": null,
            "left": null,
            "margin": null,
            "max_height": null,
            "max_width": null,
            "min_height": null,
            "min_width": null,
            "object_fit": null,
            "object_position": null,
            "order": null,
            "overflow": null,
            "overflow_x": null,
            "overflow_y": null,
            "padding": null,
            "right": null,
            "top": null,
            "visibility": null,
            "width": null
          }
        },
        "fcdec52be21045d3b60ad0f1131cc900": {
          "model_module": "@jupyter-widgets/controls",
          "model_name": "DescriptionStyleModel",
          "model_module_version": "1.5.0",
          "state": {
            "_model_module": "@jupyter-widgets/controls",
            "_model_module_version": "1.5.0",
            "_model_name": "DescriptionStyleModel",
            "_view_count": null,
            "_view_module": "@jupyter-widgets/base",
            "_view_module_version": "1.2.0",
            "_view_name": "StyleView",
            "description_width": ""
          }
        },
        "890350de74bf4f91bdaa40cbf46be8d4": {
          "model_module": "@jupyter-widgets/controls",
          "model_name": "HBoxModel",
          "model_module_version": "1.5.0",
          "state": {
            "_dom_classes": [],
            "_model_module": "@jupyter-widgets/controls",
            "_model_module_version": "1.5.0",
            "_model_name": "HBoxModel",
            "_view_count": null,
            "_view_module": "@jupyter-widgets/controls",
            "_view_module_version": "1.5.0",
            "_view_name": "HBoxView",
            "box_style": "",
            "children": [
              "IPY_MODEL_b9016d7050ba4948b64f62879dfc78ea",
              "IPY_MODEL_30538477417646a7a4068d8aed1bae84",
              "IPY_MODEL_ee26e464a13446a9a5ef6e597ffb7431"
            ],
            "layout": "IPY_MODEL_b1e0cf62b99e4080b8db8f10f6fb4d0f"
          }
        },
        "b9016d7050ba4948b64f62879dfc78ea": {
          "model_module": "@jupyter-widgets/controls",
          "model_name": "HTMLModel",
          "model_module_version": "1.5.0",
          "state": {
            "_dom_classes": [],
            "_model_module": "@jupyter-widgets/controls",
            "_model_module_version": "1.5.0",
            "_model_name": "HTMLModel",
            "_view_count": null,
            "_view_module": "@jupyter-widgets/controls",
            "_view_module_version": "1.5.0",
            "_view_name": "HTMLView",
            "description": "",
            "description_tooltip": null,
            "layout": "IPY_MODEL_3f663883bdd141a29417833a3fee661d",
            "placeholder": "​",
            "style": "IPY_MODEL_feefc2408dfb45e8a0c176b3a8523f84",
            "value": "vocab.json: 100%"
          }
        },
        "30538477417646a7a4068d8aed1bae84": {
          "model_module": "@jupyter-widgets/controls",
          "model_name": "FloatProgressModel",
          "model_module_version": "1.5.0",
          "state": {
            "_dom_classes": [],
            "_model_module": "@jupyter-widgets/controls",
            "_model_module_version": "1.5.0",
            "_model_name": "FloatProgressModel",
            "_view_count": null,
            "_view_module": "@jupyter-widgets/controls",
            "_view_module_version": "1.5.0",
            "_view_name": "ProgressView",
            "bar_style": "success",
            "description": "",
            "description_tooltip": null,
            "layout": "IPY_MODEL_9e27b220db4046e2ac388561c2d46fc3",
            "max": 1042301,
            "min": 0,
            "orientation": "horizontal",
            "style": "IPY_MODEL_6e01d14291a84b688ee733e9a1c3b60f",
            "value": 1042301
          }
        },
        "ee26e464a13446a9a5ef6e597ffb7431": {
          "model_module": "@jupyter-widgets/controls",
          "model_name": "HTMLModel",
          "model_module_version": "1.5.0",
          "state": {
            "_dom_classes": [],
            "_model_module": "@jupyter-widgets/controls",
            "_model_module_version": "1.5.0",
            "_model_name": "HTMLModel",
            "_view_count": null,
            "_view_module": "@jupyter-widgets/controls",
            "_view_module_version": "1.5.0",
            "_view_name": "HTMLView",
            "description": "",
            "description_tooltip": null,
            "layout": "IPY_MODEL_34e7a63717fb4ca7a8f48d8cdbb57f14",
            "placeholder": "​",
            "style": "IPY_MODEL_0baa33ec9629446d956f179a1b26662b",
            "value": " 1.04M/1.04M [00:00&lt;00:00, 1.20MB/s]"
          }
        },
        "b1e0cf62b99e4080b8db8f10f6fb4d0f": {
          "model_module": "@jupyter-widgets/base",
          "model_name": "LayoutModel",
          "model_module_version": "1.2.0",
          "state": {
            "_model_module": "@jupyter-widgets/base",
            "_model_module_version": "1.2.0",
            "_model_name": "LayoutModel",
            "_view_count": null,
            "_view_module": "@jupyter-widgets/base",
            "_view_module_version": "1.2.0",
            "_view_name": "LayoutView",
            "align_content": null,
            "align_items": null,
            "align_self": null,
            "border": null,
            "bottom": null,
            "display": null,
            "flex": null,
            "flex_flow": null,
            "grid_area": null,
            "grid_auto_columns": null,
            "grid_auto_flow": null,
            "grid_auto_rows": null,
            "grid_column": null,
            "grid_gap": null,
            "grid_row": null,
            "grid_template_areas": null,
            "grid_template_columns": null,
            "grid_template_rows": null,
            "height": null,
            "justify_content": null,
            "justify_items": null,
            "left": null,
            "margin": null,
            "max_height": null,
            "max_width": null,
            "min_height": null,
            "min_width": null,
            "object_fit": null,
            "object_position": null,
            "order": null,
            "overflow": null,
            "overflow_x": null,
            "overflow_y": null,
            "padding": null,
            "right": null,
            "top": null,
            "visibility": null,
            "width": null
          }
        },
        "3f663883bdd141a29417833a3fee661d": {
          "model_module": "@jupyter-widgets/base",
          "model_name": "LayoutModel",
          "model_module_version": "1.2.0",
          "state": {
            "_model_module": "@jupyter-widgets/base",
            "_model_module_version": "1.2.0",
            "_model_name": "LayoutModel",
            "_view_count": null,
            "_view_module": "@jupyter-widgets/base",
            "_view_module_version": "1.2.0",
            "_view_name": "LayoutView",
            "align_content": null,
            "align_items": null,
            "align_self": null,
            "border": null,
            "bottom": null,
            "display": null,
            "flex": null,
            "flex_flow": null,
            "grid_area": null,
            "grid_auto_columns": null,
            "grid_auto_flow": null,
            "grid_auto_rows": null,
            "grid_column": null,
            "grid_gap": null,
            "grid_row": null,
            "grid_template_areas": null,
            "grid_template_columns": null,
            "grid_template_rows": null,
            "height": null,
            "justify_content": null,
            "justify_items": null,
            "left": null,
            "margin": null,
            "max_height": null,
            "max_width": null,
            "min_height": null,
            "min_width": null,
            "object_fit": null,
            "object_position": null,
            "order": null,
            "overflow": null,
            "overflow_x": null,
            "overflow_y": null,
            "padding": null,
            "right": null,
            "top": null,
            "visibility": null,
            "width": null
          }
        },
        "feefc2408dfb45e8a0c176b3a8523f84": {
          "model_module": "@jupyter-widgets/controls",
          "model_name": "DescriptionStyleModel",
          "model_module_version": "1.5.0",
          "state": {
            "_model_module": "@jupyter-widgets/controls",
            "_model_module_version": "1.5.0",
            "_model_name": "DescriptionStyleModel",
            "_view_count": null,
            "_view_module": "@jupyter-widgets/base",
            "_view_module_version": "1.2.0",
            "_view_name": "StyleView",
            "description_width": ""
          }
        },
        "9e27b220db4046e2ac388561c2d46fc3": {
          "model_module": "@jupyter-widgets/base",
          "model_name": "LayoutModel",
          "model_module_version": "1.2.0",
          "state": {
            "_model_module": "@jupyter-widgets/base",
            "_model_module_version": "1.2.0",
            "_model_name": "LayoutModel",
            "_view_count": null,
            "_view_module": "@jupyter-widgets/base",
            "_view_module_version": "1.2.0",
            "_view_name": "LayoutView",
            "align_content": null,
            "align_items": null,
            "align_self": null,
            "border": null,
            "bottom": null,
            "display": null,
            "flex": null,
            "flex_flow": null,
            "grid_area": null,
            "grid_auto_columns": null,
            "grid_auto_flow": null,
            "grid_auto_rows": null,
            "grid_column": null,
            "grid_gap": null,
            "grid_row": null,
            "grid_template_areas": null,
            "grid_template_columns": null,
            "grid_template_rows": null,
            "height": null,
            "justify_content": null,
            "justify_items": null,
            "left": null,
            "margin": null,
            "max_height": null,
            "max_width": null,
            "min_height": null,
            "min_width": null,
            "object_fit": null,
            "object_position": null,
            "order": null,
            "overflow": null,
            "overflow_x": null,
            "overflow_y": null,
            "padding": null,
            "right": null,
            "top": null,
            "visibility": null,
            "width": null
          }
        },
        "6e01d14291a84b688ee733e9a1c3b60f": {
          "model_module": "@jupyter-widgets/controls",
          "model_name": "ProgressStyleModel",
          "model_module_version": "1.5.0",
          "state": {
            "_model_module": "@jupyter-widgets/controls",
            "_model_module_version": "1.5.0",
            "_model_name": "ProgressStyleModel",
            "_view_count": null,
            "_view_module": "@jupyter-widgets/base",
            "_view_module_version": "1.2.0",
            "_view_name": "StyleView",
            "bar_color": null,
            "description_width": ""
          }
        },
        "34e7a63717fb4ca7a8f48d8cdbb57f14": {
          "model_module": "@jupyter-widgets/base",
          "model_name": "LayoutModel",
          "model_module_version": "1.2.0",
          "state": {
            "_model_module": "@jupyter-widgets/base",
            "_model_module_version": "1.2.0",
            "_model_name": "LayoutModel",
            "_view_count": null,
            "_view_module": "@jupyter-widgets/base",
            "_view_module_version": "1.2.0",
            "_view_name": "LayoutView",
            "align_content": null,
            "align_items": null,
            "align_self": null,
            "border": null,
            "bottom": null,
            "display": null,
            "flex": null,
            "flex_flow": null,
            "grid_area": null,
            "grid_auto_columns": null,
            "grid_auto_flow": null,
            "grid_auto_rows": null,
            "grid_column": null,
            "grid_gap": null,
            "grid_row": null,
            "grid_template_areas": null,
            "grid_template_columns": null,
            "grid_template_rows": null,
            "height": null,
            "justify_content": null,
            "justify_items": null,
            "left": null,
            "margin": null,
            "max_height": null,
            "max_width": null,
            "min_height": null,
            "min_width": null,
            "object_fit": null,
            "object_position": null,
            "order": null,
            "overflow": null,
            "overflow_x": null,
            "overflow_y": null,
            "padding": null,
            "right": null,
            "top": null,
            "visibility": null,
            "width": null
          }
        },
        "0baa33ec9629446d956f179a1b26662b": {
          "model_module": "@jupyter-widgets/controls",
          "model_name": "DescriptionStyleModel",
          "model_module_version": "1.5.0",
          "state": {
            "_model_module": "@jupyter-widgets/controls",
            "_model_module_version": "1.5.0",
            "_model_name": "DescriptionStyleModel",
            "_view_count": null,
            "_view_module": "@jupyter-widgets/base",
            "_view_module_version": "1.2.0",
            "_view_name": "StyleView",
            "description_width": ""
          }
        },
        "192beaa061f945e99159deec6a7fff55": {
          "model_module": "@jupyter-widgets/controls",
          "model_name": "HBoxModel",
          "model_module_version": "1.5.0",
          "state": {
            "_dom_classes": [],
            "_model_module": "@jupyter-widgets/controls",
            "_model_module_version": "1.5.0",
            "_model_name": "HBoxModel",
            "_view_count": null,
            "_view_module": "@jupyter-widgets/controls",
            "_view_module_version": "1.5.0",
            "_view_name": "HBoxView",
            "box_style": "",
            "children": [
              "IPY_MODEL_b5af07190e8948b4a1b7f79b8c0b24c1",
              "IPY_MODEL_e27fb4963fba4d5fb9e8df7026e5fcc2",
              "IPY_MODEL_5373e6991ae2496eb0d699b1f752a23f"
            ],
            "layout": "IPY_MODEL_6473c1113e654faeba6a7f31de97d857"
          }
        },
        "b5af07190e8948b4a1b7f79b8c0b24c1": {
          "model_module": "@jupyter-widgets/controls",
          "model_name": "HTMLModel",
          "model_module_version": "1.5.0",
          "state": {
            "_dom_classes": [],
            "_model_module": "@jupyter-widgets/controls",
            "_model_module_version": "1.5.0",
            "_model_name": "HTMLModel",
            "_view_count": null,
            "_view_module": "@jupyter-widgets/controls",
            "_view_module_version": "1.5.0",
            "_view_name": "HTMLView",
            "description": "",
            "description_tooltip": null,
            "layout": "IPY_MODEL_77c964980c3d452cb4ed9194caf8b045",
            "placeholder": "​",
            "style": "IPY_MODEL_dc71f00f697b4517ba7ee7dab8a7e991",
            "value": "merges.txt: 100%"
          }
        },
        "e27fb4963fba4d5fb9e8df7026e5fcc2": {
          "model_module": "@jupyter-widgets/controls",
          "model_name": "FloatProgressModel",
          "model_module_version": "1.5.0",
          "state": {
            "_dom_classes": [],
            "_model_module": "@jupyter-widgets/controls",
            "_model_module_version": "1.5.0",
            "_model_name": "FloatProgressModel",
            "_view_count": null,
            "_view_module": "@jupyter-widgets/controls",
            "_view_module_version": "1.5.0",
            "_view_name": "ProgressView",
            "bar_style": "success",
            "description": "",
            "description_tooltip": null,
            "layout": "IPY_MODEL_dcd6687b3b9543d68783f9edbae571a6",
            "max": 456318,
            "min": 0,
            "orientation": "horizontal",
            "style": "IPY_MODEL_a5b3d1410a7146b481f3077d876895ee",
            "value": 456318
          }
        },
        "5373e6991ae2496eb0d699b1f752a23f": {
          "model_module": "@jupyter-widgets/controls",
          "model_name": "HTMLModel",
          "model_module_version": "1.5.0",
          "state": {
            "_dom_classes": [],
            "_model_module": "@jupyter-widgets/controls",
            "_model_module_version": "1.5.0",
            "_model_name": "HTMLModel",
            "_view_count": null,
            "_view_module": "@jupyter-widgets/controls",
            "_view_module_version": "1.5.0",
            "_view_name": "HTMLView",
            "description": "",
            "description_tooltip": null,
            "layout": "IPY_MODEL_931cb982570a4386ba77da35a15914dc",
            "placeholder": "​",
            "style": "IPY_MODEL_911483ae193b407c87b40722905f476a",
            "value": " 456k/456k [00:00&lt;00:00, 711kB/s]"
          }
        },
        "6473c1113e654faeba6a7f31de97d857": {
          "model_module": "@jupyter-widgets/base",
          "model_name": "LayoutModel",
          "model_module_version": "1.2.0",
          "state": {
            "_model_module": "@jupyter-widgets/base",
            "_model_module_version": "1.2.0",
            "_model_name": "LayoutModel",
            "_view_count": null,
            "_view_module": "@jupyter-widgets/base",
            "_view_module_version": "1.2.0",
            "_view_name": "LayoutView",
            "align_content": null,
            "align_items": null,
            "align_self": null,
            "border": null,
            "bottom": null,
            "display": null,
            "flex": null,
            "flex_flow": null,
            "grid_area": null,
            "grid_auto_columns": null,
            "grid_auto_flow": null,
            "grid_auto_rows": null,
            "grid_column": null,
            "grid_gap": null,
            "grid_row": null,
            "grid_template_areas": null,
            "grid_template_columns": null,
            "grid_template_rows": null,
            "height": null,
            "justify_content": null,
            "justify_items": null,
            "left": null,
            "margin": null,
            "max_height": null,
            "max_width": null,
            "min_height": null,
            "min_width": null,
            "object_fit": null,
            "object_position": null,
            "order": null,
            "overflow": null,
            "overflow_x": null,
            "overflow_y": null,
            "padding": null,
            "right": null,
            "top": null,
            "visibility": null,
            "width": null
          }
        },
        "77c964980c3d452cb4ed9194caf8b045": {
          "model_module": "@jupyter-widgets/base",
          "model_name": "LayoutModel",
          "model_module_version": "1.2.0",
          "state": {
            "_model_module": "@jupyter-widgets/base",
            "_model_module_version": "1.2.0",
            "_model_name": "LayoutModel",
            "_view_count": null,
            "_view_module": "@jupyter-widgets/base",
            "_view_module_version": "1.2.0",
            "_view_name": "LayoutView",
            "align_content": null,
            "align_items": null,
            "align_self": null,
            "border": null,
            "bottom": null,
            "display": null,
            "flex": null,
            "flex_flow": null,
            "grid_area": null,
            "grid_auto_columns": null,
            "grid_auto_flow": null,
            "grid_auto_rows": null,
            "grid_column": null,
            "grid_gap": null,
            "grid_row": null,
            "grid_template_areas": null,
            "grid_template_columns": null,
            "grid_template_rows": null,
            "height": null,
            "justify_content": null,
            "justify_items": null,
            "left": null,
            "margin": null,
            "max_height": null,
            "max_width": null,
            "min_height": null,
            "min_width": null,
            "object_fit": null,
            "object_position": null,
            "order": null,
            "overflow": null,
            "overflow_x": null,
            "overflow_y": null,
            "padding": null,
            "right": null,
            "top": null,
            "visibility": null,
            "width": null
          }
        },
        "dc71f00f697b4517ba7ee7dab8a7e991": {
          "model_module": "@jupyter-widgets/controls",
          "model_name": "DescriptionStyleModel",
          "model_module_version": "1.5.0",
          "state": {
            "_model_module": "@jupyter-widgets/controls",
            "_model_module_version": "1.5.0",
            "_model_name": "DescriptionStyleModel",
            "_view_count": null,
            "_view_module": "@jupyter-widgets/base",
            "_view_module_version": "1.2.0",
            "_view_name": "StyleView",
            "description_width": ""
          }
        },
        "dcd6687b3b9543d68783f9edbae571a6": {
          "model_module": "@jupyter-widgets/base",
          "model_name": "LayoutModel",
          "model_module_version": "1.2.0",
          "state": {
            "_model_module": "@jupyter-widgets/base",
            "_model_module_version": "1.2.0",
            "_model_name": "LayoutModel",
            "_view_count": null,
            "_view_module": "@jupyter-widgets/base",
            "_view_module_version": "1.2.0",
            "_view_name": "LayoutView",
            "align_content": null,
            "align_items": null,
            "align_self": null,
            "border": null,
            "bottom": null,
            "display": null,
            "flex": null,
            "flex_flow": null,
            "grid_area": null,
            "grid_auto_columns": null,
            "grid_auto_flow": null,
            "grid_auto_rows": null,
            "grid_column": null,
            "grid_gap": null,
            "grid_row": null,
            "grid_template_areas": null,
            "grid_template_columns": null,
            "grid_template_rows": null,
            "height": null,
            "justify_content": null,
            "justify_items": null,
            "left": null,
            "margin": null,
            "max_height": null,
            "max_width": null,
            "min_height": null,
            "min_width": null,
            "object_fit": null,
            "object_position": null,
            "order": null,
            "overflow": null,
            "overflow_x": null,
            "overflow_y": null,
            "padding": null,
            "right": null,
            "top": null,
            "visibility": null,
            "width": null
          }
        },
        "a5b3d1410a7146b481f3077d876895ee": {
          "model_module": "@jupyter-widgets/controls",
          "model_name": "ProgressStyleModel",
          "model_module_version": "1.5.0",
          "state": {
            "_model_module": "@jupyter-widgets/controls",
            "_model_module_version": "1.5.0",
            "_model_name": "ProgressStyleModel",
            "_view_count": null,
            "_view_module": "@jupyter-widgets/base",
            "_view_module_version": "1.2.0",
            "_view_name": "StyleView",
            "bar_color": null,
            "description_width": ""
          }
        },
        "931cb982570a4386ba77da35a15914dc": {
          "model_module": "@jupyter-widgets/base",
          "model_name": "LayoutModel",
          "model_module_version": "1.2.0",
          "state": {
            "_model_module": "@jupyter-widgets/base",
            "_model_module_version": "1.2.0",
            "_model_name": "LayoutModel",
            "_view_count": null,
            "_view_module": "@jupyter-widgets/base",
            "_view_module_version": "1.2.0",
            "_view_name": "LayoutView",
            "align_content": null,
            "align_items": null,
            "align_self": null,
            "border": null,
            "bottom": null,
            "display": null,
            "flex": null,
            "flex_flow": null,
            "grid_area": null,
            "grid_auto_columns": null,
            "grid_auto_flow": null,
            "grid_auto_rows": null,
            "grid_column": null,
            "grid_gap": null,
            "grid_row": null,
            "grid_template_areas": null,
            "grid_template_columns": null,
            "grid_template_rows": null,
            "height": null,
            "justify_content": null,
            "justify_items": null,
            "left": null,
            "margin": null,
            "max_height": null,
            "max_width": null,
            "min_height": null,
            "min_width": null,
            "object_fit": null,
            "object_position": null,
            "order": null,
            "overflow": null,
            "overflow_x": null,
            "overflow_y": null,
            "padding": null,
            "right": null,
            "top": null,
            "visibility": null,
            "width": null
          }
        },
        "911483ae193b407c87b40722905f476a": {
          "model_module": "@jupyter-widgets/controls",
          "model_name": "DescriptionStyleModel",
          "model_module_version": "1.5.0",
          "state": {
            "_model_module": "@jupyter-widgets/controls",
            "_model_module_version": "1.5.0",
            "_model_name": "DescriptionStyleModel",
            "_view_count": null,
            "_view_module": "@jupyter-widgets/base",
            "_view_module_version": "1.2.0",
            "_view_name": "StyleView",
            "description_width": ""
          }
        },
        "0b3a59ea716c4e5687d8b44090c8d99e": {
          "model_module": "@jupyter-widgets/controls",
          "model_name": "HBoxModel",
          "model_module_version": "1.5.0",
          "state": {
            "_dom_classes": [],
            "_model_module": "@jupyter-widgets/controls",
            "_model_module_version": "1.5.0",
            "_model_name": "HBoxModel",
            "_view_count": null,
            "_view_module": "@jupyter-widgets/controls",
            "_view_module_version": "1.5.0",
            "_view_name": "HBoxView",
            "box_style": "",
            "children": [
              "IPY_MODEL_6ae582a85d11451aaf4cc23fa46fa243",
              "IPY_MODEL_c2d24f7d39fd4dac96342c884a55774b",
              "IPY_MODEL_659619ae42c74ed4bc2d89b38e1fad35"
            ],
            "layout": "IPY_MODEL_a4e3433de6234a138f777acc7b1a65c3"
          }
        },
        "6ae582a85d11451aaf4cc23fa46fa243": {
          "model_module": "@jupyter-widgets/controls",
          "model_name": "HTMLModel",
          "model_module_version": "1.5.0",
          "state": {
            "_dom_classes": [],
            "_model_module": "@jupyter-widgets/controls",
            "_model_module_version": "1.5.0",
            "_model_name": "HTMLModel",
            "_view_count": null,
            "_view_module": "@jupyter-widgets/controls",
            "_view_module_version": "1.5.0",
            "_view_name": "HTMLView",
            "description": "",
            "description_tooltip": null,
            "layout": "IPY_MODEL_e5b84e20550a41f89c4354ddbd256ec8",
            "placeholder": "​",
            "style": "IPY_MODEL_df36a0503b064eb09276f551a1be7539",
            "value": "tokenizer.json: 100%"
          }
        },
        "c2d24f7d39fd4dac96342c884a55774b": {
          "model_module": "@jupyter-widgets/controls",
          "model_name": "FloatProgressModel",
          "model_module_version": "1.5.0",
          "state": {
            "_dom_classes": [],
            "_model_module": "@jupyter-widgets/controls",
            "_model_module_version": "1.5.0",
            "_model_name": "FloatProgressModel",
            "_view_count": null,
            "_view_module": "@jupyter-widgets/controls",
            "_view_module_version": "1.5.0",
            "_view_name": "ProgressView",
            "bar_style": "success",
            "description": "",
            "description_tooltip": null,
            "layout": "IPY_MODEL_a1a2e799b29f47b897fbdccfddbaea2c",
            "max": 1355256,
            "min": 0,
            "orientation": "horizontal",
            "style": "IPY_MODEL_1dd37ab759f84324bba320345f5adc66",
            "value": 1355256
          }
        },
        "659619ae42c74ed4bc2d89b38e1fad35": {
          "model_module": "@jupyter-widgets/controls",
          "model_name": "HTMLModel",
          "model_module_version": "1.5.0",
          "state": {
            "_dom_classes": [],
            "_model_module": "@jupyter-widgets/controls",
            "_model_module_version": "1.5.0",
            "_model_name": "HTMLModel",
            "_view_count": null,
            "_view_module": "@jupyter-widgets/controls",
            "_view_module_version": "1.5.0",
            "_view_name": "HTMLView",
            "description": "",
            "description_tooltip": null,
            "layout": "IPY_MODEL_c290e109f6a842e58a6dbdb25e9a619b",
            "placeholder": "​",
            "style": "IPY_MODEL_ff847b08c2da406daa744fab9fe68274",
            "value": " 1.36M/1.36M [00:01&lt;00:00, 1.27MB/s]"
          }
        },
        "a4e3433de6234a138f777acc7b1a65c3": {
          "model_module": "@jupyter-widgets/base",
          "model_name": "LayoutModel",
          "model_module_version": "1.2.0",
          "state": {
            "_model_module": "@jupyter-widgets/base",
            "_model_module_version": "1.2.0",
            "_model_name": "LayoutModel",
            "_view_count": null,
            "_view_module": "@jupyter-widgets/base",
            "_view_module_version": "1.2.0",
            "_view_name": "LayoutView",
            "align_content": null,
            "align_items": null,
            "align_self": null,
            "border": null,
            "bottom": null,
            "display": null,
            "flex": null,
            "flex_flow": null,
            "grid_area": null,
            "grid_auto_columns": null,
            "grid_auto_flow": null,
            "grid_auto_rows": null,
            "grid_column": null,
            "grid_gap": null,
            "grid_row": null,
            "grid_template_areas": null,
            "grid_template_columns": null,
            "grid_template_rows": null,
            "height": null,
            "justify_content": null,
            "justify_items": null,
            "left": null,
            "margin": null,
            "max_height": null,
            "max_width": null,
            "min_height": null,
            "min_width": null,
            "object_fit": null,
            "object_position": null,
            "order": null,
            "overflow": null,
            "overflow_x": null,
            "overflow_y": null,
            "padding": null,
            "right": null,
            "top": null,
            "visibility": null,
            "width": null
          }
        },
        "e5b84e20550a41f89c4354ddbd256ec8": {
          "model_module": "@jupyter-widgets/base",
          "model_name": "LayoutModel",
          "model_module_version": "1.2.0",
          "state": {
            "_model_module": "@jupyter-widgets/base",
            "_model_module_version": "1.2.0",
            "_model_name": "LayoutModel",
            "_view_count": null,
            "_view_module": "@jupyter-widgets/base",
            "_view_module_version": "1.2.0",
            "_view_name": "LayoutView",
            "align_content": null,
            "align_items": null,
            "align_self": null,
            "border": null,
            "bottom": null,
            "display": null,
            "flex": null,
            "flex_flow": null,
            "grid_area": null,
            "grid_auto_columns": null,
            "grid_auto_flow": null,
            "grid_auto_rows": null,
            "grid_column": null,
            "grid_gap": null,
            "grid_row": null,
            "grid_template_areas": null,
            "grid_template_columns": null,
            "grid_template_rows": null,
            "height": null,
            "justify_content": null,
            "justify_items": null,
            "left": null,
            "margin": null,
            "max_height": null,
            "max_width": null,
            "min_height": null,
            "min_width": null,
            "object_fit": null,
            "object_position": null,
            "order": null,
            "overflow": null,
            "overflow_x": null,
            "overflow_y": null,
            "padding": null,
            "right": null,
            "top": null,
            "visibility": null,
            "width": null
          }
        },
        "df36a0503b064eb09276f551a1be7539": {
          "model_module": "@jupyter-widgets/controls",
          "model_name": "DescriptionStyleModel",
          "model_module_version": "1.5.0",
          "state": {
            "_model_module": "@jupyter-widgets/controls",
            "_model_module_version": "1.5.0",
            "_model_name": "DescriptionStyleModel",
            "_view_count": null,
            "_view_module": "@jupyter-widgets/base",
            "_view_module_version": "1.2.0",
            "_view_name": "StyleView",
            "description_width": ""
          }
        },
        "a1a2e799b29f47b897fbdccfddbaea2c": {
          "model_module": "@jupyter-widgets/base",
          "model_name": "LayoutModel",
          "model_module_version": "1.2.0",
          "state": {
            "_model_module": "@jupyter-widgets/base",
            "_model_module_version": "1.2.0",
            "_model_name": "LayoutModel",
            "_view_count": null,
            "_view_module": "@jupyter-widgets/base",
            "_view_module_version": "1.2.0",
            "_view_name": "LayoutView",
            "align_content": null,
            "align_items": null,
            "align_self": null,
            "border": null,
            "bottom": null,
            "display": null,
            "flex": null,
            "flex_flow": null,
            "grid_area": null,
            "grid_auto_columns": null,
            "grid_auto_flow": null,
            "grid_auto_rows": null,
            "grid_column": null,
            "grid_gap": null,
            "grid_row": null,
            "grid_template_areas": null,
            "grid_template_columns": null,
            "grid_template_rows": null,
            "height": null,
            "justify_content": null,
            "justify_items": null,
            "left": null,
            "margin": null,
            "max_height": null,
            "max_width": null,
            "min_height": null,
            "min_width": null,
            "object_fit": null,
            "object_position": null,
            "order": null,
            "overflow": null,
            "overflow_x": null,
            "overflow_y": null,
            "padding": null,
            "right": null,
            "top": null,
            "visibility": null,
            "width": null
          }
        },
        "1dd37ab759f84324bba320345f5adc66": {
          "model_module": "@jupyter-widgets/controls",
          "model_name": "ProgressStyleModel",
          "model_module_version": "1.5.0",
          "state": {
            "_model_module": "@jupyter-widgets/controls",
            "_model_module_version": "1.5.0",
            "_model_name": "ProgressStyleModel",
            "_view_count": null,
            "_view_module": "@jupyter-widgets/base",
            "_view_module_version": "1.2.0",
            "_view_name": "StyleView",
            "bar_color": null,
            "description_width": ""
          }
        },
        "c290e109f6a842e58a6dbdb25e9a619b": {
          "model_module": "@jupyter-widgets/base",
          "model_name": "LayoutModel",
          "model_module_version": "1.2.0",
          "state": {
            "_model_module": "@jupyter-widgets/base",
            "_model_module_version": "1.2.0",
            "_model_name": "LayoutModel",
            "_view_count": null,
            "_view_module": "@jupyter-widgets/base",
            "_view_module_version": "1.2.0",
            "_view_name": "LayoutView",
            "align_content": null,
            "align_items": null,
            "align_self": null,
            "border": null,
            "bottom": null,
            "display": null,
            "flex": null,
            "flex_flow": null,
            "grid_area": null,
            "grid_auto_columns": null,
            "grid_auto_flow": null,
            "grid_auto_rows": null,
            "grid_column": null,
            "grid_gap": null,
            "grid_row": null,
            "grid_template_areas": null,
            "grid_template_columns": null,
            "grid_template_rows": null,
            "height": null,
            "justify_content": null,
            "justify_items": null,
            "left": null,
            "margin": null,
            "max_height": null,
            "max_width": null,
            "min_height": null,
            "min_width": null,
            "object_fit": null,
            "object_position": null,
            "order": null,
            "overflow": null,
            "overflow_x": null,
            "overflow_y": null,
            "padding": null,
            "right": null,
            "top": null,
            "visibility": null,
            "width": null
          }
        },
        "ff847b08c2da406daa744fab9fe68274": {
          "model_module": "@jupyter-widgets/controls",
          "model_name": "DescriptionStyleModel",
          "model_module_version": "1.5.0",
          "state": {
            "_model_module": "@jupyter-widgets/controls",
            "_model_module_version": "1.5.0",
            "_model_name": "DescriptionStyleModel",
            "_view_count": null,
            "_view_module": "@jupyter-widgets/base",
            "_view_module_version": "1.2.0",
            "_view_name": "StyleView",
            "description_width": ""
          }
        },
        "4ea7e8fc76364fa590518a0340377079": {
          "model_module": "@jupyter-widgets/controls",
          "model_name": "HBoxModel",
          "model_module_version": "1.5.0",
          "state": {
            "_dom_classes": [],
            "_model_module": "@jupyter-widgets/controls",
            "_model_module_version": "1.5.0",
            "_model_name": "HBoxModel",
            "_view_count": null,
            "_view_module": "@jupyter-widgets/controls",
            "_view_module_version": "1.5.0",
            "_view_name": "HBoxView",
            "box_style": "",
            "children": [
              "IPY_MODEL_c2fd08dfa39441a18d443196a8c40450",
              "IPY_MODEL_2eeeb09d85ea4368b5b39dee33a67285",
              "IPY_MODEL_456a70afb0d242eea26e389da13fe350"
            ],
            "layout": "IPY_MODEL_b4b45a051ad5434ba973f82dc1d31837"
          }
        },
        "c2fd08dfa39441a18d443196a8c40450": {
          "model_module": "@jupyter-widgets/controls",
          "model_name": "HTMLModel",
          "model_module_version": "1.5.0",
          "state": {
            "_dom_classes": [],
            "_model_module": "@jupyter-widgets/controls",
            "_model_module_version": "1.5.0",
            "_model_name": "HTMLModel",
            "_view_count": null,
            "_view_module": "@jupyter-widgets/controls",
            "_view_module_version": "1.5.0",
            "_view_name": "HTMLView",
            "description": "",
            "description_tooltip": null,
            "layout": "IPY_MODEL_987db6a49e374f64bff3b382121a47ae",
            "placeholder": "​",
            "style": "IPY_MODEL_5f977c3f961a4b15a11a79f74b4b68cf",
            "value": "model.safetensors: 100%"
          }
        },
        "2eeeb09d85ea4368b5b39dee33a67285": {
          "model_module": "@jupyter-widgets/controls",
          "model_name": "FloatProgressModel",
          "model_module_version": "1.5.0",
          "state": {
            "_dom_classes": [],
            "_model_module": "@jupyter-widgets/controls",
            "_model_module_version": "1.5.0",
            "_model_name": "FloatProgressModel",
            "_view_count": null,
            "_view_module": "@jupyter-widgets/controls",
            "_view_module_version": "1.5.0",
            "_view_name": "ProgressView",
            "bar_style": "success",
            "description": "",
            "description_tooltip": null,
            "layout": "IPY_MODEL_e9fbb078905744c0bc973ae677967a58",
            "max": 1519984962,
            "min": 0,
            "orientation": "horizontal",
            "style": "IPY_MODEL_1c9586aae9524dc993a8bb854602c055",
            "value": 1519984962
          }
        },
        "456a70afb0d242eea26e389da13fe350": {
          "model_module": "@jupyter-widgets/controls",
          "model_name": "HTMLModel",
          "model_module_version": "1.5.0",
          "state": {
            "_dom_classes": [],
            "_model_module": "@jupyter-widgets/controls",
            "_model_module_version": "1.5.0",
            "_model_name": "HTMLModel",
            "_view_count": null,
            "_view_module": "@jupyter-widgets/controls",
            "_view_module_version": "1.5.0",
            "_view_name": "HTMLView",
            "description": "",
            "description_tooltip": null,
            "layout": "IPY_MODEL_9903e1d967ff4173892eda8088fa9c3d",
            "placeholder": "​",
            "style": "IPY_MODEL_34b9eabcdb4a44469615fb36d945c969",
            "value": " 1.52G/1.52G [00:06&lt;00:00, 196MB/s]"
          }
        },
        "b4b45a051ad5434ba973f82dc1d31837": {
          "model_module": "@jupyter-widgets/base",
          "model_name": "LayoutModel",
          "model_module_version": "1.2.0",
          "state": {
            "_model_module": "@jupyter-widgets/base",
            "_model_module_version": "1.2.0",
            "_model_name": "LayoutModel",
            "_view_count": null,
            "_view_module": "@jupyter-widgets/base",
            "_view_module_version": "1.2.0",
            "_view_name": "LayoutView",
            "align_content": null,
            "align_items": null,
            "align_self": null,
            "border": null,
            "bottom": null,
            "display": null,
            "flex": null,
            "flex_flow": null,
            "grid_area": null,
            "grid_auto_columns": null,
            "grid_auto_flow": null,
            "grid_auto_rows": null,
            "grid_column": null,
            "grid_gap": null,
            "grid_row": null,
            "grid_template_areas": null,
            "grid_template_columns": null,
            "grid_template_rows": null,
            "height": null,
            "justify_content": null,
            "justify_items": null,
            "left": null,
            "margin": null,
            "max_height": null,
            "max_width": null,
            "min_height": null,
            "min_width": null,
            "object_fit": null,
            "object_position": null,
            "order": null,
            "overflow": null,
            "overflow_x": null,
            "overflow_y": null,
            "padding": null,
            "right": null,
            "top": null,
            "visibility": null,
            "width": null
          }
        },
        "987db6a49e374f64bff3b382121a47ae": {
          "model_module": "@jupyter-widgets/base",
          "model_name": "LayoutModel",
          "model_module_version": "1.2.0",
          "state": {
            "_model_module": "@jupyter-widgets/base",
            "_model_module_version": "1.2.0",
            "_model_name": "LayoutModel",
            "_view_count": null,
            "_view_module": "@jupyter-widgets/base",
            "_view_module_version": "1.2.0",
            "_view_name": "LayoutView",
            "align_content": null,
            "align_items": null,
            "align_self": null,
            "border": null,
            "bottom": null,
            "display": null,
            "flex": null,
            "flex_flow": null,
            "grid_area": null,
            "grid_auto_columns": null,
            "grid_auto_flow": null,
            "grid_auto_rows": null,
            "grid_column": null,
            "grid_gap": null,
            "grid_row": null,
            "grid_template_areas": null,
            "grid_template_columns": null,
            "grid_template_rows": null,
            "height": null,
            "justify_content": null,
            "justify_items": null,
            "left": null,
            "margin": null,
            "max_height": null,
            "max_width": null,
            "min_height": null,
            "min_width": null,
            "object_fit": null,
            "object_position": null,
            "order": null,
            "overflow": null,
            "overflow_x": null,
            "overflow_y": null,
            "padding": null,
            "right": null,
            "top": null,
            "visibility": null,
            "width": null
          }
        },
        "5f977c3f961a4b15a11a79f74b4b68cf": {
          "model_module": "@jupyter-widgets/controls",
          "model_name": "DescriptionStyleModel",
          "model_module_version": "1.5.0",
          "state": {
            "_model_module": "@jupyter-widgets/controls",
            "_model_module_version": "1.5.0",
            "_model_name": "DescriptionStyleModel",
            "_view_count": null,
            "_view_module": "@jupyter-widgets/base",
            "_view_module_version": "1.2.0",
            "_view_name": "StyleView",
            "description_width": ""
          }
        },
        "e9fbb078905744c0bc973ae677967a58": {
          "model_module": "@jupyter-widgets/base",
          "model_name": "LayoutModel",
          "model_module_version": "1.2.0",
          "state": {
            "_model_module": "@jupyter-widgets/base",
            "_model_module_version": "1.2.0",
            "_model_name": "LayoutModel",
            "_view_count": null,
            "_view_module": "@jupyter-widgets/base",
            "_view_module_version": "1.2.0",
            "_view_name": "LayoutView",
            "align_content": null,
            "align_items": null,
            "align_self": null,
            "border": null,
            "bottom": null,
            "display": null,
            "flex": null,
            "flex_flow": null,
            "grid_area": null,
            "grid_auto_columns": null,
            "grid_auto_flow": null,
            "grid_auto_rows": null,
            "grid_column": null,
            "grid_gap": null,
            "grid_row": null,
            "grid_template_areas": null,
            "grid_template_columns": null,
            "grid_template_rows": null,
            "height": null,
            "justify_content": null,
            "justify_items": null,
            "left": null,
            "margin": null,
            "max_height": null,
            "max_width": null,
            "min_height": null,
            "min_width": null,
            "object_fit": null,
            "object_position": null,
            "order": null,
            "overflow": null,
            "overflow_x": null,
            "overflow_y": null,
            "padding": null,
            "right": null,
            "top": null,
            "visibility": null,
            "width": null
          }
        },
        "1c9586aae9524dc993a8bb854602c055": {
          "model_module": "@jupyter-widgets/controls",
          "model_name": "ProgressStyleModel",
          "model_module_version": "1.5.0",
          "state": {
            "_model_module": "@jupyter-widgets/controls",
            "_model_module_version": "1.5.0",
            "_model_name": "ProgressStyleModel",
            "_view_count": null,
            "_view_module": "@jupyter-widgets/base",
            "_view_module_version": "1.2.0",
            "_view_name": "StyleView",
            "bar_color": null,
            "description_width": ""
          }
        },
        "9903e1d967ff4173892eda8088fa9c3d": {
          "model_module": "@jupyter-widgets/base",
          "model_name": "LayoutModel",
          "model_module_version": "1.2.0",
          "state": {
            "_model_module": "@jupyter-widgets/base",
            "_model_module_version": "1.2.0",
            "_model_name": "LayoutModel",
            "_view_count": null,
            "_view_module": "@jupyter-widgets/base",
            "_view_module_version": "1.2.0",
            "_view_name": "LayoutView",
            "align_content": null,
            "align_items": null,
            "align_self": null,
            "border": null,
            "bottom": null,
            "display": null,
            "flex": null,
            "flex_flow": null,
            "grid_area": null,
            "grid_auto_columns": null,
            "grid_auto_flow": null,
            "grid_auto_rows": null,
            "grid_column": null,
            "grid_gap": null,
            "grid_row": null,
            "grid_template_areas": null,
            "grid_template_columns": null,
            "grid_template_rows": null,
            "height": null,
            "justify_content": null,
            "justify_items": null,
            "left": null,
            "margin": null,
            "max_height": null,
            "max_width": null,
            "min_height": null,
            "min_width": null,
            "object_fit": null,
            "object_position": null,
            "order": null,
            "overflow": null,
            "overflow_x": null,
            "overflow_y": null,
            "padding": null,
            "right": null,
            "top": null,
            "visibility": null,
            "width": null
          }
        },
        "34b9eabcdb4a44469615fb36d945c969": {
          "model_module": "@jupyter-widgets/controls",
          "model_name": "DescriptionStyleModel",
          "model_module_version": "1.5.0",
          "state": {
            "_model_module": "@jupyter-widgets/controls",
            "_model_module_version": "1.5.0",
            "_model_name": "DescriptionStyleModel",
            "_view_count": null,
            "_view_module": "@jupyter-widgets/base",
            "_view_module_version": "1.2.0",
            "_view_name": "StyleView",
            "description_width": ""
          }
        },
        "a5b8d3fc883641dbb14c4837320e2493": {
          "model_module": "@jupyter-widgets/controls",
          "model_name": "HBoxModel",
          "model_module_version": "1.5.0",
          "state": {
            "_dom_classes": [],
            "_model_module": "@jupyter-widgets/controls",
            "_model_module_version": "1.5.0",
            "_model_name": "HBoxModel",
            "_view_count": null,
            "_view_module": "@jupyter-widgets/controls",
            "_view_module_version": "1.5.0",
            "_view_name": "HBoxView",
            "box_style": "",
            "children": [
              "IPY_MODEL_24328bc4fd6b47b5a192c87ae6938722",
              "IPY_MODEL_08da376938914543aadece64b644790e",
              "IPY_MODEL_0e1fd20928ba4d33820d4fd95b303aa2"
            ],
            "layout": "IPY_MODEL_876f54f6118843719eeb8fa815f11c34"
          }
        },
        "24328bc4fd6b47b5a192c87ae6938722": {
          "model_module": "@jupyter-widgets/controls",
          "model_name": "HTMLModel",
          "model_module_version": "1.5.0",
          "state": {
            "_dom_classes": [],
            "_model_module": "@jupyter-widgets/controls",
            "_model_module_version": "1.5.0",
            "_model_name": "HTMLModel",
            "_view_count": null,
            "_view_module": "@jupyter-widgets/controls",
            "_view_module_version": "1.5.0",
            "_view_name": "HTMLView",
            "description": "",
            "description_tooltip": null,
            "layout": "IPY_MODEL_d2156af71610410c968e117958f9f7ca",
            "placeholder": "​",
            "style": "IPY_MODEL_43b2676907fa4c03b53f86d9c295fbd0",
            "value": "generation_config.json: 100%"
          }
        },
        "08da376938914543aadece64b644790e": {
          "model_module": "@jupyter-widgets/controls",
          "model_name": "FloatProgressModel",
          "model_module_version": "1.5.0",
          "state": {
            "_dom_classes": [],
            "_model_module": "@jupyter-widgets/controls",
            "_model_module_version": "1.5.0",
            "_model_name": "FloatProgressModel",
            "_view_count": null,
            "_view_module": "@jupyter-widgets/controls",
            "_view_module_version": "1.5.0",
            "_view_name": "ProgressView",
            "bar_style": "success",
            "description": "",
            "description_tooltip": null,
            "layout": "IPY_MODEL_434a6f78a6b143a0825c1cc36b0fc320",
            "max": 124,
            "min": 0,
            "orientation": "horizontal",
            "style": "IPY_MODEL_9bf6ede897654dbc8365d852ddb9ac3d",
            "value": 124
          }
        },
        "0e1fd20928ba4d33820d4fd95b303aa2": {
          "model_module": "@jupyter-widgets/controls",
          "model_name": "HTMLModel",
          "model_module_version": "1.5.0",
          "state": {
            "_dom_classes": [],
            "_model_module": "@jupyter-widgets/controls",
            "_model_module_version": "1.5.0",
            "_model_name": "HTMLModel",
            "_view_count": null,
            "_view_module": "@jupyter-widgets/controls",
            "_view_module_version": "1.5.0",
            "_view_name": "HTMLView",
            "description": "",
            "description_tooltip": null,
            "layout": "IPY_MODEL_1311b2482116480bbacefd404c625155",
            "placeholder": "​",
            "style": "IPY_MODEL_2e7bac99f4784a088adcf14e28201896",
            "value": " 124/124 [00:00&lt;00:00, 11.2kB/s]"
          }
        },
        "876f54f6118843719eeb8fa815f11c34": {
          "model_module": "@jupyter-widgets/base",
          "model_name": "LayoutModel",
          "model_module_version": "1.2.0",
          "state": {
            "_model_module": "@jupyter-widgets/base",
            "_model_module_version": "1.2.0",
            "_model_name": "LayoutModel",
            "_view_count": null,
            "_view_module": "@jupyter-widgets/base",
            "_view_module_version": "1.2.0",
            "_view_name": "LayoutView",
            "align_content": null,
            "align_items": null,
            "align_self": null,
            "border": null,
            "bottom": null,
            "display": null,
            "flex": null,
            "flex_flow": null,
            "grid_area": null,
            "grid_auto_columns": null,
            "grid_auto_flow": null,
            "grid_auto_rows": null,
            "grid_column": null,
            "grid_gap": null,
            "grid_row": null,
            "grid_template_areas": null,
            "grid_template_columns": null,
            "grid_template_rows": null,
            "height": null,
            "justify_content": null,
            "justify_items": null,
            "left": null,
            "margin": null,
            "max_height": null,
            "max_width": null,
            "min_height": null,
            "min_width": null,
            "object_fit": null,
            "object_position": null,
            "order": null,
            "overflow": null,
            "overflow_x": null,
            "overflow_y": null,
            "padding": null,
            "right": null,
            "top": null,
            "visibility": null,
            "width": null
          }
        },
        "d2156af71610410c968e117958f9f7ca": {
          "model_module": "@jupyter-widgets/base",
          "model_name": "LayoutModel",
          "model_module_version": "1.2.0",
          "state": {
            "_model_module": "@jupyter-widgets/base",
            "_model_module_version": "1.2.0",
            "_model_name": "LayoutModel",
            "_view_count": null,
            "_view_module": "@jupyter-widgets/base",
            "_view_module_version": "1.2.0",
            "_view_name": "LayoutView",
            "align_content": null,
            "align_items": null,
            "align_self": null,
            "border": null,
            "bottom": null,
            "display": null,
            "flex": null,
            "flex_flow": null,
            "grid_area": null,
            "grid_auto_columns": null,
            "grid_auto_flow": null,
            "grid_auto_rows": null,
            "grid_column": null,
            "grid_gap": null,
            "grid_row": null,
            "grid_template_areas": null,
            "grid_template_columns": null,
            "grid_template_rows": null,
            "height": null,
            "justify_content": null,
            "justify_items": null,
            "left": null,
            "margin": null,
            "max_height": null,
            "max_width": null,
            "min_height": null,
            "min_width": null,
            "object_fit": null,
            "object_position": null,
            "order": null,
            "overflow": null,
            "overflow_x": null,
            "overflow_y": null,
            "padding": null,
            "right": null,
            "top": null,
            "visibility": null,
            "width": null
          }
        },
        "43b2676907fa4c03b53f86d9c295fbd0": {
          "model_module": "@jupyter-widgets/controls",
          "model_name": "DescriptionStyleModel",
          "model_module_version": "1.5.0",
          "state": {
            "_model_module": "@jupyter-widgets/controls",
            "_model_module_version": "1.5.0",
            "_model_name": "DescriptionStyleModel",
            "_view_count": null,
            "_view_module": "@jupyter-widgets/base",
            "_view_module_version": "1.2.0",
            "_view_name": "StyleView",
            "description_width": ""
          }
        },
        "434a6f78a6b143a0825c1cc36b0fc320": {
          "model_module": "@jupyter-widgets/base",
          "model_name": "LayoutModel",
          "model_module_version": "1.2.0",
          "state": {
            "_model_module": "@jupyter-widgets/base",
            "_model_module_version": "1.2.0",
            "_model_name": "LayoutModel",
            "_view_count": null,
            "_view_module": "@jupyter-widgets/base",
            "_view_module_version": "1.2.0",
            "_view_name": "LayoutView",
            "align_content": null,
            "align_items": null,
            "align_self": null,
            "border": null,
            "bottom": null,
            "display": null,
            "flex": null,
            "flex_flow": null,
            "grid_area": null,
            "grid_auto_columns": null,
            "grid_auto_flow": null,
            "grid_auto_rows": null,
            "grid_column": null,
            "grid_gap": null,
            "grid_row": null,
            "grid_template_areas": null,
            "grid_template_columns": null,
            "grid_template_rows": null,
            "height": null,
            "justify_content": null,
            "justify_items": null,
            "left": null,
            "margin": null,
            "max_height": null,
            "max_width": null,
            "min_height": null,
            "min_width": null,
            "object_fit": null,
            "object_position": null,
            "order": null,
            "overflow": null,
            "overflow_x": null,
            "overflow_y": null,
            "padding": null,
            "right": null,
            "top": null,
            "visibility": null,
            "width": null
          }
        },
        "9bf6ede897654dbc8365d852ddb9ac3d": {
          "model_module": "@jupyter-widgets/controls",
          "model_name": "ProgressStyleModel",
          "model_module_version": "1.5.0",
          "state": {
            "_model_module": "@jupyter-widgets/controls",
            "_model_module_version": "1.5.0",
            "_model_name": "ProgressStyleModel",
            "_view_count": null,
            "_view_module": "@jupyter-widgets/base",
            "_view_module_version": "1.2.0",
            "_view_name": "StyleView",
            "bar_color": null,
            "description_width": ""
          }
        },
        "1311b2482116480bbacefd404c625155": {
          "model_module": "@jupyter-widgets/base",
          "model_name": "LayoutModel",
          "model_module_version": "1.2.0",
          "state": {
            "_model_module": "@jupyter-widgets/base",
            "_model_module_version": "1.2.0",
            "_model_name": "LayoutModel",
            "_view_count": null,
            "_view_module": "@jupyter-widgets/base",
            "_view_module_version": "1.2.0",
            "_view_name": "LayoutView",
            "align_content": null,
            "align_items": null,
            "align_self": null,
            "border": null,
            "bottom": null,
            "display": null,
            "flex": null,
            "flex_flow": null,
            "grid_area": null,
            "grid_auto_columns": null,
            "grid_auto_flow": null,
            "grid_auto_rows": null,
            "grid_column": null,
            "grid_gap": null,
            "grid_row": null,
            "grid_template_areas": null,
            "grid_template_columns": null,
            "grid_template_rows": null,
            "height": null,
            "justify_content": null,
            "justify_items": null,
            "left": null,
            "margin": null,
            "max_height": null,
            "max_width": null,
            "min_height": null,
            "min_width": null,
            "object_fit": null,
            "object_position": null,
            "order": null,
            "overflow": null,
            "overflow_x": null,
            "overflow_y": null,
            "padding": null,
            "right": null,
            "top": null,
            "visibility": null,
            "width": null
          }
        },
        "2e7bac99f4784a088adcf14e28201896": {
          "model_module": "@jupyter-widgets/controls",
          "model_name": "DescriptionStyleModel",
          "model_module_version": "1.5.0",
          "state": {
            "_model_module": "@jupyter-widgets/controls",
            "_model_module_version": "1.5.0",
            "_model_name": "DescriptionStyleModel",
            "_view_count": null,
            "_view_module": "@jupyter-widgets/base",
            "_view_module_version": "1.2.0",
            "_view_name": "StyleView",
            "description_width": ""
          }
        }
      }
    }
  },
  "nbformat_minor": 0,
  "nbformat": 4,
  "cells": [
    {
      "cell_type": "markdown",
      "metadata": {
        "id": "view-in-github",
        "colab_type": "text"
      },
      "source": [
        "<a href=\"https://colab.research.google.com/github/kerryzl77/Deep-Learning/blob/main/Copy_of_hw4_starter.ipynb\" target=\"_parent\"><img src=\"https://colab.research.google.com/assets/colab-badge.svg\" alt=\"Open In Colab\"/></a>"
      ]
    },
    {
      "cell_type": "markdown",
      "source": [
        "# Project 4: Finetuning and Prompting\n",
        "\n",
        "In this project, you will first learn how to use Huggingface's Transformers library to load large language models. Next, we will generate text from these models. Finally, we will work with a small text-to-SQL dataset, where the input is a natural language query and the output is a SQL query that can be executed against a database. You will explore (1) finetuning a pretrained language model, and (2) prompting the pretrained language model with examples.\n",
        "\n",
        "This project will be more open ended than the previous projects. We expect you to learn how to use the huggingface and torch documentation."
      ],
      "metadata": {
        "id": "BaWLWoH2vXYI"
      }
    },
    {
      "cell_type": "markdown",
      "source": [
        "## Setup\n",
        "\n",
        "First we install and import the required dependencies. These include:\n",
        "* `torch` for modeling and training\n",
        "* `transformers` for pre-trained models\n",
        "* `datasets` from huggingface to load existing datasets."
      ],
      "metadata": {
        "id": "00F8p38QvXYK"
      }
    },
    {
      "cell_type": "code",
      "source": [
        "%%capture\n",
        "!pip install transformers\n",
        "!pip install datasets\n",
        "!pip install sentence-transformers\n",
        "\n",
        "# Standard library imports\n",
        "import torch\n",
        "from torch.utils.data import Dataset, random_split\n",
        "from transformers import AutoTokenizer, TrainingArguments, Trainer, AutoModelForCausalLM"
      ],
      "metadata": {
        "trusted": true,
        "id": "x2qTG_ASvXYK"
      },
      "execution_count": 1,
      "outputs": []
    },
    {
      "cell_type": "markdown",
      "source": [
        "Before proceeding, let's verify that we're connected to a GPU runtime and that `torch` can detect the GPU.\n",
        "We'll define a variable `device` here to use throughout the code so that we can easily change to run on CPU for debugging."
      ],
      "metadata": {
        "id": "q3w-IXQDvXYL"
      }
    },
    {
      "cell_type": "code",
      "source": [
        "assert torch.cuda.is_available()\n",
        "device = torch.device(\"cuda\")\n",
        "print(\"Using device:\", device)"
      ],
      "metadata": {
        "trusted": true,
        "id": "3VRKWEPNvXYL",
        "colab": {
          "base_uri": "https://localhost:8080/"
        },
        "outputId": "130662bb-562a-4dda-e895-5a19733b7d1f"
      },
      "execution_count": 2,
      "outputs": [
        {
          "output_type": "stream",
          "name": "stdout",
          "text": [
            "Using device: cuda\n"
          ]
        }
      ]
    },
    {
      "cell_type": "markdown",
      "source": [
        "## Loading Model"
      ],
      "metadata": {
        "id": "r5c6h8o-vXYL"
      }
    },
    {
      "cell_type": "markdown",
      "source": [
        "We will use GPT-2 Medium for this project. This includes both the GPT-2 tokenizer and the GPT-2 model weights itself. If you want to learn more about this model, you can read the GPT-2 paper https://cdn.openai.com/better-language-models/language_models_are_unsupervised_multitask_learners.pdf.\n",
        "\n",
        "Let's first load the tokenizer for the GPT-2 medium model. You can find how to do this by reading the documentation for AutoTokenzier in transformers, and finding the GPT-2 model of ~345 million params in there."
      ],
      "metadata": {
        "id": "3dr58rdyvXYM"
      }
    },
    {
      "cell_type": "code",
      "source": [
        "from transformers import AutoTokenizer\n",
        "# Your code here\n",
        "\n",
        "tokenizer = AutoTokenizer.from_pretrained(\"gpt2-medium\")\n",
        "\n",
        "tokenizer.pad_token = tokenizer.eos_token # convenient for padding later"
      ],
      "metadata": {
        "trusted": true,
        "id": "jzKiyjGgvXYM",
        "colab": {
          "base_uri": "https://localhost:8080/",
          "height": 340,
          "referenced_widgets": [
            "3decdb9938584df3b63ade325639fc86",
            "254d679970b74d42ba8045dc7f3b462d",
            "a319c75479d64d21a11f8ce08114dd53",
            "b0d71f2e977a45cfa1072ab5614eddce",
            "e887966f60be48a4a7c2a2a062ecffa1",
            "00cea53b007247e69bcdb49e72860493",
            "65882ca6604c4f36bb754d3e456e10df",
            "e1354688872f4d1cb7c09e985fb04382",
            "25b5e6c6d7c741e3a222af59d2b32b47",
            "5aab1c0923fa487982ae8dbf3ffbda9c",
            "6fcb251605b44d0ca5a41aaafcae5866",
            "4bf71cd0f9034cd89fcc45e2570cf488",
            "e3974a6cd2ef44fa9bbeb0cf84a3b668",
            "60930dd814a741ea9f45432bf3f760f5",
            "39504a516cde4edb9dd2a1769fbef92f",
            "e0a3954469414ec78246614e9c257243",
            "01e33eb2fb4145fa869c9f72950cd0d4",
            "047c205acce340638b5110d0eea4e887",
            "8e02113290f24b6ca15c5eaba6f51092",
            "eafd6b16b951482896a4687bfb6c8d35",
            "6fab0a086f714f0e97571fe6712b2532",
            "fcdec52be21045d3b60ad0f1131cc900",
            "890350de74bf4f91bdaa40cbf46be8d4",
            "b9016d7050ba4948b64f62879dfc78ea",
            "30538477417646a7a4068d8aed1bae84",
            "ee26e464a13446a9a5ef6e597ffb7431",
            "b1e0cf62b99e4080b8db8f10f6fb4d0f",
            "3f663883bdd141a29417833a3fee661d",
            "feefc2408dfb45e8a0c176b3a8523f84",
            "9e27b220db4046e2ac388561c2d46fc3",
            "6e01d14291a84b688ee733e9a1c3b60f",
            "34e7a63717fb4ca7a8f48d8cdbb57f14",
            "0baa33ec9629446d956f179a1b26662b",
            "192beaa061f945e99159deec6a7fff55",
            "b5af07190e8948b4a1b7f79b8c0b24c1",
            "e27fb4963fba4d5fb9e8df7026e5fcc2",
            "5373e6991ae2496eb0d699b1f752a23f",
            "6473c1113e654faeba6a7f31de97d857",
            "77c964980c3d452cb4ed9194caf8b045",
            "dc71f00f697b4517ba7ee7dab8a7e991",
            "dcd6687b3b9543d68783f9edbae571a6",
            "a5b3d1410a7146b481f3077d876895ee",
            "931cb982570a4386ba77da35a15914dc",
            "911483ae193b407c87b40722905f476a",
            "0b3a59ea716c4e5687d8b44090c8d99e",
            "6ae582a85d11451aaf4cc23fa46fa243",
            "c2d24f7d39fd4dac96342c884a55774b",
            "659619ae42c74ed4bc2d89b38e1fad35",
            "a4e3433de6234a138f777acc7b1a65c3",
            "e5b84e20550a41f89c4354ddbd256ec8",
            "df36a0503b064eb09276f551a1be7539",
            "a1a2e799b29f47b897fbdccfddbaea2c",
            "1dd37ab759f84324bba320345f5adc66",
            "c290e109f6a842e58a6dbdb25e9a619b",
            "ff847b08c2da406daa744fab9fe68274"
          ]
        },
        "outputId": "18a28d9f-9dfa-41ab-f365-6223a6898eca"
      },
      "execution_count": 3,
      "outputs": [
        {
          "output_type": "stream",
          "name": "stderr",
          "text": [
            "/usr/local/lib/python3.10/dist-packages/huggingface_hub/utils/_token.py:89: UserWarning: \n",
            "The secret `HF_TOKEN` does not exist in your Colab secrets.\n",
            "To authenticate with the Hugging Face Hub, create a token in your settings tab (https://huggingface.co/settings/tokens), set it as secret in your Google Colab and restart your session.\n",
            "You will be able to reuse this secret in all of your notebooks.\n",
            "Please note that authentication is recommended but still optional to access public models or datasets.\n",
            "  warnings.warn(\n"
          ]
        },
        {
          "output_type": "display_data",
          "data": {
            "text/plain": [
              "tokenizer_config.json:   0%|          | 0.00/26.0 [00:00<?, ?B/s]"
            ],
            "application/vnd.jupyter.widget-view+json": {
              "version_major": 2,
              "version_minor": 0,
              "model_id": "3decdb9938584df3b63ade325639fc86"
            }
          },
          "metadata": {}
        },
        {
          "output_type": "display_data",
          "data": {
            "text/plain": [
              "config.json:   0%|          | 0.00/718 [00:00<?, ?B/s]"
            ],
            "application/vnd.jupyter.widget-view+json": {
              "version_major": 2,
              "version_minor": 0,
              "model_id": "4bf71cd0f9034cd89fcc45e2570cf488"
            }
          },
          "metadata": {}
        },
        {
          "output_type": "display_data",
          "data": {
            "text/plain": [
              "vocab.json:   0%|          | 0.00/1.04M [00:00<?, ?B/s]"
            ],
            "application/vnd.jupyter.widget-view+json": {
              "version_major": 2,
              "version_minor": 0,
              "model_id": "890350de74bf4f91bdaa40cbf46be8d4"
            }
          },
          "metadata": {}
        },
        {
          "output_type": "display_data",
          "data": {
            "text/plain": [
              "merges.txt:   0%|          | 0.00/456k [00:00<?, ?B/s]"
            ],
            "application/vnd.jupyter.widget-view+json": {
              "version_major": 2,
              "version_minor": 0,
              "model_id": "192beaa061f945e99159deec6a7fff55"
            }
          },
          "metadata": {}
        },
        {
          "output_type": "display_data",
          "data": {
            "text/plain": [
              "tokenizer.json:   0%|          | 0.00/1.36M [00:00<?, ?B/s]"
            ],
            "application/vnd.jupyter.widget-view+json": {
              "version_major": 2,
              "version_minor": 0,
              "model_id": "0b3a59ea716c4e5687d8b44090c8d99e"
            }
          },
          "metadata": {}
        },
        {
          "output_type": "stream",
          "name": "stderr",
          "text": [
            "/usr/local/lib/python3.10/dist-packages/transformers/tokenization_utils_base.py:1601: FutureWarning: `clean_up_tokenization_spaces` was not set. It will be set to `True` by default. This behavior will be depracted in transformers v4.45, and will be then set to `False` by default. For more details check this issue: https://github.com/huggingface/transformers/issues/31884\n",
            "  warnings.warn(\n"
          ]
        }
      ]
    },
    {
      "cell_type": "markdown",
      "source": [
        "Let's tokenize and detokenize some text from this model."
      ],
      "metadata": {
        "id": "Yjxs7tQXvXYM"
      }
    },
    {
      "cell_type": "code",
      "source": [
        "print(tokenizer.encode('Hello world'))\n",
        "print(tokenizer.decode(tokenizer.encode('Hello world')))\n",
        "print(tokenizer.encode(\"Hola, cómo estás😍\"))"
      ],
      "metadata": {
        "trusted": true,
        "id": "HFDO4cFfvXYM",
        "colab": {
          "base_uri": "https://localhost:8080/"
        },
        "outputId": "d174095f-edcd-4407-9bbf-9a6fd57fcdcb"
      },
      "execution_count": 4,
      "outputs": [
        {
          "output_type": "stream",
          "name": "stdout",
          "text": [
            "[15496, 995]\n",
            "Hello world\n",
            "[39, 5708, 11, 269, 10205, 5908, 1556, 40138, 47249, 235]\n"
          ]
        }
      ]
    },
    {
      "cell_type": "markdown",
      "source": [
        "Now let's load the GPT-2 Medium model. Make sure you also put the model onto the GPU."
      ],
      "metadata": {
        "id": "oJKqFVcxvXYM"
      }
    },
    {
      "cell_type": "code",
      "source": [
        "from transformers import AutoModelForCausalLM\n",
        "# Your code here\n",
        "gpt2_model = AutoModelForCausalLM.from_pretrained(\"gpt2-medium\", pad_token_id=tokenizer.eos_token_id).to(device)"
      ],
      "metadata": {
        "trusted": true,
        "id": "L_Rd9eXwvXYM",
        "colab": {
          "base_uri": "https://localhost:8080/",
          "height": 81,
          "referenced_widgets": [
            "4ea7e8fc76364fa590518a0340377079",
            "c2fd08dfa39441a18d443196a8c40450",
            "2eeeb09d85ea4368b5b39dee33a67285",
            "456a70afb0d242eea26e389da13fe350",
            "b4b45a051ad5434ba973f82dc1d31837",
            "987db6a49e374f64bff3b382121a47ae",
            "5f977c3f961a4b15a11a79f74b4b68cf",
            "e9fbb078905744c0bc973ae677967a58",
            "1c9586aae9524dc993a8bb854602c055",
            "9903e1d967ff4173892eda8088fa9c3d",
            "34b9eabcdb4a44469615fb36d945c969",
            "a5b8d3fc883641dbb14c4837320e2493",
            "24328bc4fd6b47b5a192c87ae6938722",
            "08da376938914543aadece64b644790e",
            "0e1fd20928ba4d33820d4fd95b303aa2",
            "876f54f6118843719eeb8fa815f11c34",
            "d2156af71610410c968e117958f9f7ca",
            "43b2676907fa4c03b53f86d9c295fbd0",
            "434a6f78a6b143a0825c1cc36b0fc320",
            "9bf6ede897654dbc8365d852ddb9ac3d",
            "1311b2482116480bbacefd404c625155",
            "2e7bac99f4784a088adcf14e28201896"
          ]
        },
        "outputId": "8cb69966-ca89-428d-d512-483448b3c160"
      },
      "execution_count": 5,
      "outputs": [
        {
          "output_type": "display_data",
          "data": {
            "text/plain": [
              "model.safetensors:   0%|          | 0.00/1.52G [00:00<?, ?B/s]"
            ],
            "application/vnd.jupyter.widget-view+json": {
              "version_major": 2,
              "version_minor": 0,
              "model_id": "4ea7e8fc76364fa590518a0340377079"
            }
          },
          "metadata": {}
        },
        {
          "output_type": "display_data",
          "data": {
            "text/plain": [
              "generation_config.json:   0%|          | 0.00/124 [00:00<?, ?B/s]"
            ],
            "application/vnd.jupyter.widget-view+json": {
              "version_major": 2,
              "version_minor": 0,
              "model_id": "a5b8d3fc883641dbb14c4837320e2493"
            }
          },
          "metadata": {}
        }
      ]
    },
    {
      "cell_type": "markdown",
      "source": [
        "## Generate From the Model"
      ],
      "metadata": {
        "id": "M5pNZlGavXYN"
      }
    },
    {
      "cell_type": "markdown",
      "source": [
        "Now let's generate some text from the model to test its LM capabilities. Let's first generate one output of length 50 tokens using greedy decoding (temperature = 0), which should get us some text with high likelihood under the model. When generating text, you can condition on phrases such as \"The coolest thing in NLP right now is\". Find the relevant function and arguments to use for generating text using the Huggingface documentation.\n",
        "\n",
        "Hint: you may find https://huggingface.co/docs/transformers/main_classes/text_generation to be useful for learning about generating from LMs."
      ],
      "metadata": {
        "id": "GGx-UEYJvXYN"
      }
    },
    {
      "cell_type": "code",
      "source": [
        "inputs = tokenizer(\"The coolest thing right now in NLP is\", return_tensors=\"pt\").input_ids.cuda()\n",
        "# Your code here\n",
        "sample_output = gpt2_model.generate(inputs, max_new_tokens=50, do_sample=False)[0]\n",
        "\n",
        "print(\"{}\".format(tokenizer.decode(sample_output, skip_special_tokens=True)))"
      ],
      "metadata": {
        "trusted": true,
        "id": "Q6vmoZWVvXYN",
        "colab": {
          "base_uri": "https://localhost:8080/"
        },
        "outputId": "92b1dff1-6724-4233-80e9-54d04bd93b87"
      },
      "execution_count": 10,
      "outputs": [
        {
          "output_type": "stream",
          "name": "stdout",
          "text": [
            "The coolest thing right now in NLP is the ability to use the same data to predict the future.\n",
            "\n",
            "The future is always changing, and the data is always changing.\n",
            "\n",
            "The future is always changing, and the data is always changing.\n",
            "\n",
            "The future is always changing,\n"
          ]
        }
      ]
    },
    {
      "cell_type": "markdown",
      "source": [
        "Now let's generate 10 pieces of random text of length 50 tokens from the model using random sampling with temperature set to 0.7. This will allow the text to be somewhat higher in diversity (random sampling) while maintaining reasonable quality (temperature < 1)."
      ],
      "metadata": {
        "id": "nQrBwz_uvXYN"
      }
    },
    {
      "cell_type": "code",
      "source": [
        "from transformers import set_seed"
      ],
      "metadata": {
        "id": "HstJ1_qEyxKy"
      },
      "execution_count": 11,
      "outputs": []
    },
    {
      "cell_type": "code",
      "source": [
        "inputs = tokenizer(\"The coolest thing right now in NLP is\", return_tensors=\"pt\").input_ids.cuda()\n",
        "# Your code here\n",
        "set_seed(288)\n",
        "sample_outputs = gpt2_model.generate(inputs, max_new_tokens=50, do_sample=True, temperature=0.7, num_return_sequences=10)\n",
        "\n",
        "for i, sample_output in enumerate(sample_outputs):\n",
        "    print(\"{}: {}\".format(i, tokenizer.decode(sample_output, skip_special_tokens=True)))"
      ],
      "metadata": {
        "trusted": true,
        "id": "hLqz82zdvXYN",
        "colab": {
          "base_uri": "https://localhost:8080/"
        },
        "outputId": "2d3f8a59-8afd-4e02-8413-871079d59f42"
      },
      "execution_count": 15,
      "outputs": [
        {
          "output_type": "stream",
          "name": "stdout",
          "text": [
            "0: The coolest thing right now in NLP is that you can use lots of techniques to get lots of different results. You can make things much more interesting by making them very specific. Maybe you can get some things that you would not be able to do with pure probability.\n",
            "\n",
            "The NLP\n",
            "1: The coolest thing right now in NLP is that we can use the model of a language to describe how something behaves. A language like Ruby or Python is able to create models that are very rich, but we can model things as well.\n",
            "\n",
            "A common example is in the way you use\n",
            "2: The coolest thing right now in NLP is the ability to build up your model to be able to generate meaningful results.\n",
            "\n",
            "The cool thing right now in NLP is the ability to build up your model to be able to generate meaningful results.\n",
            "\n",
            "A lot of researchers are trying to\n",
            "3: The coolest thing right now in NLP is a new, exciting tool called RNNs. RNNs are similar to neural networks, but they mimic the way that neurons fire. In fact, many of the best-known RNNs are based on the same basic idea. So if\n",
            "4: The coolest thing right now in NLP is the fact that you can pick up the data directly on the database and it's very easy to understand. I love that we can be really efficient in our understanding and use of our data and use of our data. And I think that's a really\n",
            "5: The coolest thing right now in NLP is that it allows you to think of things as a system of units instead of a set of words. You can say things like \"I'm going to give you the words to describe me\" or \"I'm going to describe you in words.\" If\n",
            "6: The coolest thing right now in NLP is the tool called NLP Studio, which can be used to train models using neural networks. This is useful because you can add a variety of parameters to your model, such as time-of-flight or temperature-level (and many other things).\n",
            "7: The coolest thing right now in NLP is machine learning.\n",
            "\n",
            "\"We all know about the rise of machine learning. It's been around since the mid-nineties. The problem is, it's very hard to apply machine learning to a problem that's not already solved.\"\n",
            "\n",
            "\n",
            "8: The coolest thing right now in NLP is the ability to use multiple machine learning models and learn different types of information.\n",
            "\n",
            "The problem\n",
            "\n",
            "At the moment, there are three different types of machine learning models:\n",
            "\n",
            "D2LP: This is a very specific learning algorithm that uses\n",
            "9: The coolest thing right now in NLP is the ability to create a deep and powerful intuition that can be used to quickly recognize patterns from a large number of data points. This is the ability to instantly identify the characteristics that make a pattern unique, even in the case of a common mistake.\n",
            "\n"
          ]
        }
      ]
    },
    {
      "cell_type": "markdown",
      "source": [
        "## Text-to-SQL Task Setup"
      ],
      "metadata": {
        "id": "NTkisE6SvXYN"
      }
    },
    {
      "cell_type": "markdown",
      "source": [
        "First, let's download the data of text-to-SQL pairs and the database against which we'll execute queries to retrieve answers.\n",
        "\n",
        "The code below initializes the database and does some initial preprocessing data preprocessing + splitting for you."
      ],
      "metadata": {
        "id": "lW4_oaCDvXYN"
      }
    },
    {
      "cell_type": "code",
      "source": [
        "%%capture\n",
        "!wget https://github.com/jkkummerfeld/text2sql-data/raw/master/data/geography.json\n",
        "!wget https://github.com/jkkummerfeld/text2sql-data/raw/master/data/geography-db.sql\n",
        "\n",
        "import re\n",
        "import sqlite3\n",
        "import json\n",
        "from copy import deepcopy\n",
        "\n",
        "DATABASE_NAME = 'geo.db'\n",
        "SQL_FILENAME = 'geography-db.sql'\n",
        "DATASET_FILENAME = 'geography.json'\n",
        "\n",
        "with open(SQL_FILENAME, 'r') as file:\n",
        "    sql_script = file.read()\n",
        "    sql_script = re.sub(r\"\\s*ENGINE=[^ ]+\",\"\", sql_script)\n",
        "    sql_script = re.sub(r\"\\s*DEFAULT CHARSET=[^ ;]+\",\"\", sql_script)\n",
        "    sql_script = re.sub(r\"\\s*LOCK TABLES `[^`]+` WRITE;\",\"\", sql_script)  # remove LOCK TABLES\n",
        "    sql_script = re.sub(r\"\\s*UNLOCK TABLES;\",\"\", sql_script)  # remove UNLOCK TABLES\n",
        "    sql_script = sql_script.replace('`', '')  # remove backticks\n",
        "\n",
        "# Connect to the SQLite database (this will create the file if it doesn't exist)\n",
        "connection = sqlite3.connect(DATABASE_NAME)\n",
        "print(sql_script)\n",
        "\n",
        "connection.executescript(sql_script)\n",
        "connection.commit()\n",
        "connection.close()\n",
        "\n",
        "connection = sqlite3.connect(DATABASE_NAME)\n",
        "cursor = connection.cursor()\n",
        "with open(DATASET_FILENAME, 'r') as file:\n",
        "    dataset = json.load(file)\n",
        "\n",
        "splits = {'train': [], 'dev': [], 'test': []}\n",
        "for query_type in dataset:\n",
        "    for example in query_type['sentences']:\n",
        "        split = example['question-split']\n",
        "        example['question'] = example['text']\n",
        "        for key, value in example['variables'].items():\n",
        "            example['question'] = example['question'].replace(key, value)\n",
        "        example['sql'] = deepcopy(query_type['sql'])\n",
        "        example['sql'] = example['sql'][0]\n",
        "        for key, value in example['variables'].items():\n",
        "            example['sql'] = example['sql'].replace(key, value)\n",
        "        try:\n",
        "            cursor.execute(example['sql'])\n",
        "        except:\n",
        "            continue\n",
        "        example['db_answer'] = cursor.fetchall()\n",
        "        del example['text']\n",
        "        del example['variables']\n",
        "        splits[split].append(example)"
      ],
      "metadata": {
        "trusted": true,
        "id": "Ww6KgyBjvXYN"
      },
      "execution_count": 16,
      "outputs": []
    },
    {
      "cell_type": "markdown",
      "source": [
        "We also provide a function you can use to query the database:"
      ],
      "metadata": {
        "id": "cjVq-tEpvXYN"
      }
    },
    {
      "cell_type": "code",
      "source": [
        "def query_db(sql):\n",
        "    connection = sqlite3.connect(DATABASE_NAME)\n",
        "    cursor = connection.cursor()\n",
        "    cursor.execute(sql)\n",
        "    result = cursor.fetchall()\n",
        "    connection.close()\n",
        "    return result"
      ],
      "metadata": {
        "trusted": true,
        "id": "D2OOe6MivXYN"
      },
      "execution_count": 17,
      "outputs": []
    },
    {
      "cell_type": "markdown",
      "source": [
        "This dataset is pretty small:"
      ],
      "metadata": {
        "id": "MI-ZiCofvXYN"
      }
    },
    {
      "cell_type": "code",
      "source": [
        "print('Train set size:', len(splits['train']))\n",
        "print('Dev set size:', len(splits['dev']))\n",
        "print('Test set size:', len(splits['test']))"
      ],
      "metadata": {
        "trusted": true,
        "id": "5OYkvLHNvXYO",
        "colab": {
          "base_uri": "https://localhost:8080/"
        },
        "outputId": "387cb0d7-d9a6-4b52-9ab2-1627430e40d2"
      },
      "execution_count": 18,
      "outputs": [
        {
          "output_type": "stream",
          "name": "stdout",
          "text": [
            "Train set size: 547\n",
            "Dev set size: 48\n",
            "Test set size: 277\n"
          ]
        }
      ]
    },
    {
      "cell_type": "markdown",
      "source": [
        "Let's inspect an example from the training dataset:"
      ],
      "metadata": {
        "id": "j5mvz5g8vXYO"
      }
    },
    {
      "cell_type": "code",
      "source": [
        "splits['train'][0]"
      ],
      "metadata": {
        "trusted": true,
        "id": "TeoXVDWXvXYO",
        "colab": {
          "base_uri": "https://localhost:8080/"
        },
        "outputId": "0be1a796-6335-4c5c-c22a-3f2f264fb61f"
      },
      "execution_count": 19,
      "outputs": [
        {
          "output_type": "execute_result",
          "data": {
            "text/plain": [
              "{'question-split': 'train',\n",
              " 'question': 'what is the biggest city in nebraska',\n",
              " 'sql': 'SELECT CITYalias0.CITY_NAME FROM CITY AS CITYalias0 WHERE CITYalias0.POPULATION = ( SELECT MAX( CITYalias1.POPULATION ) FROM CITY AS CITYalias1 WHERE CITYalias1.STATE_NAME = \"nebraska\" ) AND CITYalias0.STATE_NAME = \"nebraska\" ;',\n",
              " 'db_answer': [('omaha',)]}"
            ]
          },
          "metadata": {},
          "execution_count": 19
        }
      ]
    },
    {
      "cell_type": "markdown",
      "source": [
        "Note that the `db_answer` is the result of executing the given SQL output against the database:"
      ],
      "metadata": {
        "id": "-PL2lrMmvXYO"
      }
    },
    {
      "cell_type": "code",
      "source": [
        "query_db(splits['train'][0]['sql'])"
      ],
      "metadata": {
        "trusted": true,
        "id": "PIedyJDMvXYO",
        "colab": {
          "base_uri": "https://localhost:8080/"
        },
        "outputId": "8651bd5c-1756-46d6-862c-1775aa2e8290"
      },
      "execution_count": 20,
      "outputs": [
        {
          "output_type": "execute_result",
          "data": {
            "text/plain": [
              "[('omaha',)]"
            ]
          },
          "metadata": {},
          "execution_count": 20
        }
      ]
    },
    {
      "cell_type": "markdown",
      "source": [
        "Let's check how well our language model does on this text-to-SQL task out of the box. You can just use greedy decoding."
      ],
      "metadata": {
        "id": "M7RHnedCvXYO"
      }
    },
    {
      "cell_type": "code",
      "source": [
        "prompt = \"Write a SQL query based on the following question.\\n\\nQuestion: {input}\\n\\nSQL:\""
      ],
      "metadata": {
        "trusted": true,
        "id": "u40XkL8EvXYO"
      },
      "execution_count": 21,
      "outputs": []
    },
    {
      "cell_type": "code",
      "source": [
        "# Your code here. Generate from the model using greedy decoding with the above prompt\n",
        "\n",
        "# Format the prompt with the question\n",
        "format_prompt = prompt.format(input=splits['train'][0]['question'])\n",
        "\n",
        "\n",
        "inputs_prompt = tokenizer(format_prompt, return_tensors=\"pt\").input_ids.cuda()\n",
        "greedy_output = gpt2_model.generate(inputs_prompt, max_new_tokens=128, do_sample=False)[0]\n",
        "predicted_sql = tokenizer.decode(greedy_output, skip_special_tokens=True)\n",
        "print(predicted_sql)"
      ],
      "metadata": {
        "trusted": true,
        "id": "OwaOZeq2vXYO",
        "colab": {
          "base_uri": "https://localhost:8080/"
        },
        "outputId": "4e400a2f-e71c-4fc3-b566-bd3609979c2a"
      },
      "execution_count": 39,
      "outputs": [
        {
          "output_type": "stream",
          "name": "stdout",
          "text": [
            "Write a SQL query based on the following question.\n",
            "\n",
            "Question: what is the biggest city in nebraska\n",
            "\n",
            "SQL: SELECT city FROM city WHERE city.name = 'Nebraska' AND city.zipcode = '9'\n",
            "\n",
            "The query returns the following result:\n",
            "\n",
            "Nebraska City Name Zipcode City Name Zipcode City Name Zipcode City Name Zipcode City Name Zipcode City Name Zipcode City Name Zipcode City Name Zipcode City Name Zipcode City Name Zipcode City Name Zipcode City Name Zipcode City Name Zipcode City Name Zipcode City Name Zipcode City Name Zipcode City Name Zipcode City Name Zipcode City Name Zipcode City Name Zipcode City Name Zipcode City Name Zipcode City Name Zipcode City\n"
          ]
        }
      ]
    },
    {
      "cell_type": "markdown",
      "source": [
        "You should get something that looks kind of like a SQL query, but it probably won't match the correct output, and in fact it most likely won't even execute without crashing when you try to query the database (you'll see a syntax error below)."
      ],
      "metadata": {
        "id": "j9IQDu1ivXYO"
      }
    },
    {
      "cell_type": "code",
      "source": [
        "try:\n",
        "    query_db(predicted_sql)\n",
        "    print('success!')\n",
        "except:\n",
        "    print('failed to execute!')"
      ],
      "metadata": {
        "trusted": true,
        "id": "_nb7hRVMvXYO",
        "colab": {
          "base_uri": "https://localhost:8080/"
        },
        "outputId": "7744e65f-f78f-45b9-c49c-b4a1f2245731"
      },
      "execution_count": 40,
      "outputs": [
        {
          "output_type": "stream",
          "name": "stdout",
          "text": [
            "failed to execute!\n"
          ]
        }
      ]
    },
    {
      "cell_type": "markdown",
      "source": [
        "Let's confirm quantitatively that the model doesn't work well out-of-the-box by running on the dev dataset (`splits['dev']`)."
      ],
      "metadata": {
        "id": "hgfhJcCDvXYO"
      }
    },
    {
      "cell_type": "code",
      "source": [
        "@torch.no_grad()\n",
        "def predict_greedy(model, data, max_new_tokens=128):\n",
        "    \"\"\"\n",
        "    Return the model's greedy text-to-sql predictions on the given data split.\n",
        "    The maximum number of new tokens generated (NOT including tokens in the prompt) should be equal to max_new_tokens.\n",
        "    For speed, you should batch the generation. The tokenizer can handle multiple inputs simultaneously,\n",
        "    but you'll need to tell it to pad using padding=True, and you may also need to set tokenizer.padding_side='left'.\n",
        "    Hint: as a postprocessing step after you're done, you may need to cut off the output at the first appearance of '\\n' if the output is continuing past the end of the SQL.\n",
        "    \"\"\"\n",
        "    questions = [d['question'] for d in data]\n",
        "    predicted_sqls = []\n",
        "\n",
        "    tokenizer = AutoTokenizer.from_pretrained(\"gpt2-medium\")\n",
        "    tokenizer.pad_token = tokenizer.eos_token\n",
        "    tokenizer.padding_side = \"left\"\n",
        "\n",
        "    prompt = \"Write a SQL query based on the following question.\\n\\nQuestion: {input}\\n\\nSQL:\"\n",
        "\n",
        "    # Your code here\n",
        "    batch_size = 8\n",
        "    for i in range(0, len(questions), batch_size):\n",
        "      batch_questions = questions[i:i+batch_size]\n",
        "\n",
        "      batch_prompts = [prompt.format(input=q) for q in batch_questions]\n",
        "\n",
        "      # tokenize with padding\n",
        "      inputs = tokenizer(batch_prompts, return_tensors=\"pt\", padding=True).input_ids.cuda()\n",
        "\n",
        "      # generate\n",
        "      outputs = model.generate(inputs, max_new_tokens=max_new_tokens, do_sample=False)\n",
        "\n",
        "      # decode\n",
        "      for output in outputs:\n",
        "        decoded = tokenizer.decode(output, skip_special_tokens=True)\n",
        "        # Truncate the output at the first appearance of '\\n'\n",
        "        sql_part = decoded.split(\"SQL:\")[-1].strip()\n",
        "        sql_prediction = sql_part.split('\\n')[0]\n",
        "        predicted_sqls.append(sql_prediction)\n",
        "    return predicted_sqls # list of strings containing SQL predictions for each question in the data"
      ],
      "metadata": {
        "trusted": true,
        "id": "Ig0gJb4EvXYO"
      },
      "execution_count": 44,
      "outputs": []
    },
    {
      "cell_type": "code",
      "source": [
        "def check_execution_accuracy(predictions, data):\n",
        "    assert len(predictions) == len(data)\n",
        "    correct = 0\n",
        "    for p, d in zip(predictions, data):\n",
        "        try:\n",
        "            if query_db(p) == d['db_answer']:\n",
        "                correct += 1\n",
        "        except: # failed to execute\n",
        "            pass\n",
        "    return correct / len(predictions)"
      ],
      "metadata": {
        "trusted": true,
        "id": "BUU_6MlsvXYO"
      },
      "execution_count": 45,
      "outputs": []
    },
    {
      "cell_type": "code",
      "source": [
        "predictions = predict_greedy(gpt2_model, splits['dev'])\n",
        "print('example prediction:', predictions[0])\n",
        "print('initial execution acc', check_execution_accuracy(predictions, splits['dev']))"
      ],
      "metadata": {
        "trusted": true,
        "id": "WuMp2XPNvXYO",
        "colab": {
          "base_uri": "https://localhost:8080/"
        },
        "outputId": "d9416701-c254-47b5-d6c4-dd3a32e5e061"
      },
      "execution_count": 46,
      "outputs": [
        {
          "output_type": "stream",
          "name": "stdout",
          "text": [
            "example prediction: SELECT city FROM city WHERE city.name = 'Arizona' AND city.zipcode = 'AZ'\n",
            "initial execution acc 0.0\n"
          ]
        }
      ]
    },
    {
      "cell_type": "markdown",
      "source": [
        "You will probably observe an accuracy around 0-2%. (It may be hard to verify if your `predict_greedy` function is correct at this stage, because the expected accuracy is so low, but you will reuse it later with an improved model, at which point it will be more obvious if your implementation is correct.)"
      ],
      "metadata": {
        "id": "nuiMkZ9QvXYO"
      }
    },
    {
      "cell_type": "markdown",
      "source": [
        "## Model Finetuning"
      ],
      "metadata": {
        "id": "P0Hhf_j3vXYO"
      }
    },
    {
      "cell_type": "markdown",
      "source": [
        "Now let's prepare our dataset for finetuning (i.e., training our pretrained language model on this text-to-SQL training set). For each element in the dataset, it should have a text prompt and then the SQL output, similar to above. Your job is to fill in the labels field below. This field sets the labels to use for training during the language modeling task.\n",
        "\n",
        "For the labels, we only want to train the model to output the text after the word \"SQL:\". This is because in the prompt, everything before the word \"SQL:\" will also be provided to the model as input. Hint: use -100 as the label for tokens you do not want to train on. Hint 2: When doing LM training, the labels are the same as the input tokens, except shifted to the left by one. You should check whether Huggingface is already doing the shifting, or whether you need to do the shifting yourself.\n",
        "\n",
        "One thing to be careful of with all LMs is to make sure there are not extra spaces. So, the text should be formatted as like \"SQL: {sql output}\" not \"SQL: {sql output} \"."
      ],
      "metadata": {
        "id": "iMAnrJtgvXYS"
      }
    },
    {
      "cell_type": "code",
      "source": [
        "class Text2SQLDataset(Dataset):\n",
        "    PROMPT = \"Write a SQL query based on the following question.\\n\\nQuestion: {question}\\n\\nSQL: {sql}\"\n",
        "\n",
        "    def __init__(self, data, tokenizer):\n",
        "        self.data = data\n",
        "        self.tokenizer = tokenizer\n",
        "        tokenizer.padding_side = 'right'\n",
        "\n",
        "        self.input_ids = []\n",
        "        self.attn_masks = []\n",
        "        self.labels = []\n",
        "\n",
        "        training_texts = []\n",
        "        for example in self.data:\n",
        "            training_text = Text2SQLDataset.PROMPT.format(question=example['question'], sql=example['sql']) + \"<|endoftext|>\" # include the end token so model knows when to stop!\n",
        "            training_texts.append(training_text)\n",
        "        encodings_dict = self.tokenizer(training_texts, padding=True, truncation=True)\n",
        "        for i, (example, training_text) in enumerate(zip(data, training_texts)):\n",
        "            self.input_ids.append(torch.tensor(encodings_dict['input_ids'][i]))\n",
        "            self.attn_masks.append(torch.tensor(encodings_dict['attention_mask'][i]))\n",
        "            # Your code here\n",
        "            sql_text = \"SQL:\"\n",
        "            sql_tokens = self.tokenizer.encode(sql_text, add_special_tokens=False)\n",
        "            # Find where SQL: starts in the input_ids\n",
        "            input_ids = encodings_dict['input_ids'][i]\n",
        "            for pos in range(len(input_ids) - len(sql_tokens)):\n",
        "              if input_ids[pos:pos+len(sql_tokens)] == sql_tokens:\n",
        "                sql_pos = pos\n",
        "                break\n",
        "\n",
        "            # Create labels: -100 for tokens before SQL:, proper tokens after SQL:\n",
        "            labels = [-100] * len(input_ids)\n",
        "            labels[sql_pos + len(sql_tokens):] = input_ids[sql_pos + len(sql_tokens):]\n",
        "            self.labels.append(torch.tensor(labels))\n",
        "\n",
        "\n",
        "    def __len__(self):\n",
        "        return len(self.input_ids)\n",
        "\n",
        "    def __getitem__(self, idx):\n",
        "        return {\"input_ids\": self.input_ids[idx], \"attention_mask\": self.attn_masks[idx], \"labels\": self.labels[idx]}"
      ],
      "metadata": {
        "trusted": true,
        "id": "opI50Jt_vXYS"
      },
      "execution_count": 57,
      "outputs": []
    },
    {
      "cell_type": "code",
      "source": [
        "train_dataset = Text2SQLDataset(splits['train'], tokenizer)\n",
        "dev_dataset = Text2SQLDataset(splits['dev'], tokenizer)\n",
        "test_dataset = Text2SQLDataset(splits['test'], tokenizer)"
      ],
      "metadata": {
        "trusted": true,
        "id": "0AtWXKdkvXYS"
      },
      "execution_count": 58,
      "outputs": []
    },
    {
      "cell_type": "markdown",
      "source": [
        "Now we can use the Huggingface Trainer to finetune GPT-2 Medium on this dataset. This abstracts away all of the details of training. Setup the training arguments to perform 3 epochs of training on this dataset, use a per-device batch size of 2 with gradient accumulation set to 8, use 30 warmup steps, a weight decay of 0.05. Set the eval batch size to be 8. Save a checkpoint after 100 steps. Set fp16 to True. Save the checkpoint in a specific output_dir so you can load it later. Hint: if it tries to launch Wandb, you may add the argument report_to=\"none\"."
      ],
      "metadata": {
        "id": "XUaUk4ijvXYS"
      }
    },
    {
      "cell_type": "code",
      "source": [
        "# Your code here\n",
        "training_args = TrainingArguments(\n",
        "    output_dir=\"./text2sql_model_checkpoints\",\n",
        "    num_train_epochs=3,\n",
        "    per_device_train_batch_size=2,\n",
        "    per_device_eval_batch_size=8,\n",
        "    gradient_accumulation_steps=8,\n",
        "    warmup_steps=30,\n",
        "    weight_decay=0.05,\n",
        "    save_steps=100,\n",
        "    fp16=True,\n",
        "    report_to=\"none\",\n",
        "    logging_dir=\"./logs\",\n",
        "    logging_steps=10,\n",
        "    evaluation_strategy=\"steps\",\n",
        "    eval_steps=100,\n",
        "    save_total_limit=2,  # Keep only the last 2 checkpoints\n",
        "    load_best_model_at_end=True,\n",
        "    metric_for_best_model=\"eval_loss\"\n",
        ")\n",
        "\n",
        "# Initialize the Trainer\n",
        "trainer = Trainer(\n",
        "    model=gpt2_model,\n",
        "    args=training_args,\n",
        "    train_dataset=train_dataset,\n",
        "    eval_dataset=dev_dataset\n",
        ")"
      ],
      "metadata": {
        "trusted": true,
        "id": "l1nQgdcpvXYS",
        "colab": {
          "base_uri": "https://localhost:8080/"
        },
        "outputId": "82ae7f21-1ec5-4abe-f1f6-2e3b515f0ac0"
      },
      "execution_count": 59,
      "outputs": [
        {
          "output_type": "stream",
          "name": "stderr",
          "text": [
            "/usr/local/lib/python3.10/dist-packages/transformers/training_args.py:1525: FutureWarning: `evaluation_strategy` is deprecated and will be removed in version 4.46 of 🤗 Transformers. Use `eval_strategy` instead\n",
            "  warnings.warn(\n",
            "/usr/local/lib/python3.10/dist-packages/accelerate/accelerator.py:494: FutureWarning: `torch.cuda.amp.GradScaler(args...)` is deprecated. Please use `torch.amp.GradScaler('cuda', args...)` instead.\n",
            "  self.scaler = torch.cuda.amp.GradScaler(**kwargs)\n"
          ]
        }
      ]
    },
    {
      "cell_type": "code",
      "source": [
        "# Run training\n",
        "trainer.train()"
      ],
      "metadata": {
        "colab": {
          "base_uri": "https://localhost:8080/",
          "height": 234
        },
        "id": "3zz5L56TDxOi",
        "outputId": "eaaae083-882e-4681-e786-2be89cdd02f8"
      },
      "execution_count": 60,
      "outputs": [
        {
          "output_type": "stream",
          "name": "stderr",
          "text": [
            "/usr/local/lib/python3.10/dist-packages/torch/autograd/graph.py:825: UserWarning: cuDNN SDPA backward got grad_output.strides() != output.strides(), attempting to materialize a grad_output with matching strides... (Triggered internally at ../aten/src/ATen/native/cudnn/MHA.cpp:674.)\n",
            "  return Variable._execution_engine.run_backward(  # Calls into the C++ engine to run the backward pass\n"
          ]
        },
        {
          "output_type": "display_data",
          "data": {
            "text/plain": [
              "<IPython.core.display.HTML object>"
            ],
            "text/html": [
              "\n",
              "    <div>\n",
              "      \n",
              "      <progress value='102' max='102' style='width:300px; height:20px; vertical-align: middle;'></progress>\n",
              "      [102/102 01:23, Epoch 2/3]\n",
              "    </div>\n",
              "    <table border=\"1\" class=\"dataframe\">\n",
              "  <thead>\n",
              " <tr style=\"text-align: left;\">\n",
              "      <th>Step</th>\n",
              "      <th>Training Loss</th>\n",
              "      <th>Validation Loss</th>\n",
              "    </tr>\n",
              "  </thead>\n",
              "  <tbody>\n",
              "    <tr>\n",
              "      <td>100</td>\n",
              "      <td>0.027800</td>\n",
              "      <td>0.022196</td>\n",
              "    </tr>\n",
              "  </tbody>\n",
              "</table><p>"
            ]
          },
          "metadata": {}
        },
        {
          "output_type": "stream",
          "name": "stderr",
          "text": [
            "/usr/local/lib/python3.10/dist-packages/torch/autograd/graph.py:825: UserWarning: cuDNN SDPA backward got grad_output.strides() != output.strides(), attempting to materialize a grad_output with matching strides... (Triggered internally at ../aten/src/ATen/native/cudnn/MHA.cpp:674.)\n",
            "  return Variable._execution_engine.run_backward(  # Calls into the C++ engine to run the backward pass\n"
          ]
        },
        {
          "output_type": "execute_result",
          "data": {
            "text/plain": [
              "TrainOutput(global_step=102, training_loss=1.4825736946773296, metrics={'train_runtime': 87.8956, 'train_samples_per_second': 18.67, 'train_steps_per_second': 1.16, 'total_flos': 892894929469440.0, 'train_loss': 1.4825736946773296, 'epoch': 2.978102189781022})"
            ]
          },
          "metadata": {},
          "execution_count": 60
        }
      ]
    },
    {
      "cell_type": "markdown",
      "source": [
        "Reload the final saved version of the model below. You may need to delete the previously loaded model if you run out of GPU memory."
      ],
      "metadata": {
        "id": "LIqpY02QvXYS"
      }
    },
    {
      "cell_type": "code",
      "source": [
        "del gpt2_model\n",
        "torch.cuda.empty_cache()"
      ],
      "metadata": {
        "id": "k8K9zcB1HnkY"
      },
      "execution_count": null,
      "outputs": []
    },
    {
      "cell_type": "code",
      "source": [
        "# Your code here\n",
        "finetuned_model = AutoModelForCausalLM.from_pretrained(\n",
        "    \"./text2sql_model_checkpoints/checkpoint-100\",   # Load from the checkpoint directory\n",
        "    device_map=\"auto\"  # Automatically handle device placement\n",
        ").cuda()"
      ],
      "metadata": {
        "trusted": true,
        "id": "UhL-PQ7nvXYS"
      },
      "execution_count": 65,
      "outputs": []
    },
    {
      "cell_type": "markdown",
      "source": [
        "Let's check our finetuned model's performance."
      ],
      "metadata": {
        "id": "DDFTbUKjvXYS"
      }
    },
    {
      "cell_type": "code",
      "source": [
        "finetuned_predictions = predict_greedy(finetuned_model, splits['test'])\n",
        "print('finetuned execution acc:', check_execution_accuracy(finetuned_predictions, splits['test']))"
      ],
      "metadata": {
        "trusted": true,
        "id": "sy2Ps93bvXYS",
        "colab": {
          "base_uri": "https://localhost:8080/"
        },
        "outputId": "1a39b348-9566-46ee-f6cd-c3a1c6b1be5c"
      },
      "execution_count": 66,
      "outputs": [
        {
          "output_type": "stream",
          "name": "stderr",
          "text": [
            "/usr/local/lib/python3.10/dist-packages/transformers/tokenization_utils_base.py:1601: FutureWarning: `clean_up_tokenization_spaces` was not set. It will be set to `True` by default. This behavior will be depracted in transformers v4.45, and will be then set to `False` by default. For more details check this issue: https://github.com/huggingface/transformers/issues/31884\n",
            "  warnings.warn(\n"
          ]
        },
        {
          "output_type": "stream",
          "name": "stdout",
          "text": [
            "finetuned execution acc: 0.44765342960288806\n"
          ]
        }
      ]
    },
    {
      "cell_type": "markdown",
      "source": [
        "You should achieve an accuracy of roughly 50% using the suggested training hyperparameters; we will check >40% in the autograder."
      ],
      "metadata": {
        "id": "80CLbXvqvXYS"
      }
    },
    {
      "cell_type": "markdown",
      "source": [
        "Save your predictions."
      ],
      "metadata": {
        "id": "mUUHE8zqvXYT"
      }
    },
    {
      "cell_type": "code",
      "source": [
        "def save_predictions(predictions, filename):\n",
        "    with open(filename, 'w') as f:\n",
        "        f.write('\\n'.join(predictions))\n",
        "\n",
        "save_predictions(finetuned_predictions, 'finetuned_predictions.txt')"
      ],
      "metadata": {
        "trusted": true,
        "id": "8xy9JgwHvXYT"
      },
      "execution_count": 69,
      "outputs": []
    },
    {
      "cell_type": "markdown",
      "source": [
        "Inspect some of your predictions compared to the correct outputs, and describe some common types of errors in your report. What fraction of errors are due to failing to execute (e.g., syntax error), and what fraction are due to executing but getting the wrong answer?"
      ],
      "metadata": {
        "id": "UjYK5RfOvXYU"
      }
    },
    {
      "cell_type": "code",
      "source": [
        "# Your code here\n",
        "..."
      ],
      "metadata": {
        "trusted": true,
        "id": "tOEuUbynvXYU"
      },
      "execution_count": null,
      "outputs": []
    },
    {
      "cell_type": "markdown",
      "source": [
        "We can also examine the exact match accuracy (i.e., requiring the predicted SQL string to exactly match the gold answer) rather than the execution accuracy (just checking whether the output of executing the SQL against the database is the same)."
      ],
      "metadata": {
        "id": "kEv4Q6b-vXYU"
      }
    },
    {
      "cell_type": "code",
      "source": [
        "def check_exact_match_accuracy(predictions, data):\n",
        "    assert len(predictions) == len(data)\n",
        "    correct = 0\n",
        "    for p, d in zip(predictions, data):\n",
        "        if p == d['sql']:\n",
        "            correct += 1\n",
        "    return correct / len(predictions)"
      ],
      "metadata": {
        "trusted": true,
        "id": "YkVfOW_PvXYU"
      },
      "execution_count": null,
      "outputs": []
    },
    {
      "cell_type": "code",
      "source": [
        "print('finetuned exact match acc:', check_exact_match_accuracy(finetuned_predictions, splits['test']))"
      ],
      "metadata": {
        "trusted": true,
        "id": "k-yRzeRxvXYU"
      },
      "execution_count": null,
      "outputs": []
    },
    {
      "cell_type": "markdown",
      "source": [
        "The exact match accuracy will likely be close to the execution accuracy, but not exactly the same. What are some potential pros and cons of each metric? Discuss in your report."
      ],
      "metadata": {
        "id": "_nUynqfnvXYU"
      }
    },
    {
      "cell_type": "markdown",
      "source": [
        "Unload your finetuned model so that you don't run out of GPU memory later."
      ],
      "metadata": {
        "id": "CQzc3oBNvXYU"
      }
    },
    {
      "cell_type": "code",
      "source": [
        "del finetuned_model"
      ],
      "metadata": {
        "trusted": true,
        "id": "Mlb55SBgvXYV"
      },
      "execution_count": null,
      "outputs": []
    },
    {
      "cell_type": "markdown",
      "source": [
        "## Few-Shot Prompting"
      ],
      "metadata": {
        "id": "5s3B-q4lvXYV"
      }
    },
    {
      "cell_type": "markdown",
      "source": [
        "For the final part of this project, you will explore few-shot prompting, i.e., simply prompting the pretrained language model out-of-the-box using a small number of examples rather than finetuning.\n",
        "\n",
        "First, let's try just selecting 4 examples completely at random from the training set. Rewrite your `predict_greedy` function to change the prompt:"
      ],
      "metadata": {
        "id": "YzlVOoVovXYV"
      }
    },
    {
      "cell_type": "code",
      "source": [
        "import random\n",
        "\n",
        "\n",
        "few_shot_prompt = \"Question: {question0}\\n\\nSQL: {sql0}\\n\\n\\n\\n\" + \\\n",
        "    \"Question: {question1}\\n\\nSQL: {sql1}\\n\\n\\n\\n\" + \\\n",
        "    \"Question: {question2}\\n\\nSQL: {sql2}\\n\\n\\n\\n\" + \\\n",
        "    \"Question: {question3}\\n\\nSQL: {sql3}\\n\\n\\n\\n\" + \\\n",
        "    \"Question: {question}\\n\\nSQL:\"\n",
        "\n",
        "\n",
        "def select_random_examples(question, few_shot_data, num_examples=4):\n",
        "    \"\"\"\n",
        "    Return a list containing 4 of the elements of few_shot_data, selected randomly\n",
        "    \"\"\"\n",
        "    return random.sample(few_shot_data, num_examples)\n",
        "\n",
        "\n",
        "@torch.no_grad()\n",
        "def predict_greedy_fewshot(model, data, few_shot_data, max_new_tokens=128, example_selection_method=select_random_examples):\n",
        "    \"\"\"\n",
        "    Return the model's greedy text-to-sql predictions on the given data split.\n",
        "    The maximum number of new tokens generated (NOT including tokens in the prompt) should be equal to max_new_tokens.\n",
        "    The four examples with their SQL outputs should go in {question1}, {sql1}, {question2}, {sql2}, etc. in the few_shot_prompt.\n",
        "    The final {question} is the question that we're currently evaluating on.\n",
        "    \"\"\"\n",
        "    questions = [d['question'] for d in data]\n",
        "    predicted_sqls = []\n",
        "    prompts = []\n",
        "    for question in questions:\n",
        "        few_shot_examples = example_selection_method(question, few_shot_data, num_examples=4)\n",
        "        prompts.append(few_shot_prompt.format(\n",
        "            question0=few_shot_examples[0]['question'],\n",
        "            sql0=few_shot_examples[0]['sql'],\n",
        "            question1=few_shot_examples[1]['question'],\n",
        "            sql1=few_shot_examples[1]['sql'],\n",
        "            question2=few_shot_examples[2]['question'],\n",
        "            sql2=few_shot_examples[2]['sql'],\n",
        "            question3=few_shot_examples[3]['question'],\n",
        "            sql3=few_shot_examples[3]['sql'],\n",
        "            question=question\n",
        "        ))\n",
        "    # Your code here; should be fairly similar to your previous predict_greedy code.\n",
        "    # Hint: if you batch, we recommend batch size 8-16.\n",
        "    ...\n",
        "    return predicted_sqls # list of strings containing SQL predictions for each question in the data"
      ],
      "metadata": {
        "trusted": true,
        "id": "gs612vXFvXYV"
      },
      "execution_count": null,
      "outputs": []
    },
    {
      "cell_type": "code",
      "source": [
        "# Reload the gpt2 model if you need to\n",
        "gpt2_model = ... # Your code here"
      ],
      "metadata": {
        "trusted": true,
        "id": "NuuM7XY7vXYV"
      },
      "execution_count": null,
      "outputs": []
    },
    {
      "cell_type": "code",
      "source": [
        "# This call can take a few minutes even if you batch; you can debug on a subset of the dev set as needed.\n",
        "predictions = predict_greedy_fewshot(gpt2_model, splits['test'], splits['train'])\n",
        "print('4-shot prompting with random examples, execution acc:', check_execution_accuracy(predictions, splits['test']))"
      ],
      "metadata": {
        "trusted": true,
        "id": "b5u5zs56vXYV"
      },
      "execution_count": null,
      "outputs": []
    },
    {
      "cell_type": "markdown",
      "source": [
        "You will probably observe between 0-5% accuracy. Random example selection doesn't work very well on this dataset.\n",
        "\n",
        "However, what if we select examples by picking the examples from the training set whose questions are most similar to our current question? To do this, load a pretrained sentence encoder, which takes a sentence as input and outputs a fixed-length vector encoding semantic information about that sentence. First compute the vectors associated with all the training set questions, and then select examples from the training set based on which question vectors have the largest dot products with the vector for your current question."
      ],
      "metadata": {
        "id": "RURFVF7SvXYV"
      }
    },
    {
      "cell_type": "code",
      "source": [
        "import numpy as np\n",
        "from sentence_transformers import SentenceTransformer\n",
        "\n",
        "# Your code here; load the sentence encoder (see https://www.sbert.net/ for documentation). A good choice of model is \"all-MiniLM-L6-v2\"\n",
        "sentence_encoder = ...\n",
        "\n",
        "def compute_question_encodings(data):\n",
        "    \"\"\"\n",
        "    For each example in the data, add a field called 'question_encoding' to the example, which is the vector encoding of the question.\n",
        "    \"\"\"\n",
        "    # Your code here\n",
        "    vectors = ...\n",
        "    for example, vector in zip(data, vectors):\n",
        "        example['question_encoding'] = np.array(vector)\n",
        "\n",
        "\n",
        "def select_similar_examples(question, few_shot_data, num_examples=4):\n",
        "    \"\"\"\n",
        "    Return a list containing 4 of the elements of few_shot_data, selected with questions most semantically similar to the given question.\n",
        "    The most similar question should be the LAST element of the list, second most similar should be the second to last element, etc.\n",
        "    The reason is that in the few-shot prompt, **you want the best example to be the most recent one.**\n",
        "\n",
        "    To rank by semantic similarity, first compute the vector for the current question, then compute its dot product with\n",
        "    all training set vectors (hint: you may want to vectorize this computation using numpy). Then sort by dot product.\n",
        "\n",
        "    You should take advantage of the 'question_encoding' field that you added to each example in compute_question_encodings.\n",
        "    \"\"\"\n",
        "    # Your code here\n",
        "    # hint: when you call .encode with your sentence encoder, use show_progress_bar=False to avoid tons of printouts\n",
        "    ...\n"
      ],
      "metadata": {
        "trusted": true,
        "id": "uXZRWTIMvXYV"
      },
      "execution_count": null,
      "outputs": []
    },
    {
      "cell_type": "code",
      "source": [
        "# first precompute all the vectors for the training set\n",
        "compute_question_encodings(splits['train'])"
      ],
      "metadata": {
        "trusted": true,
        "id": "K0DOJ0bWvXYV"
      },
      "execution_count": null,
      "outputs": []
    },
    {
      "cell_type": "code",
      "source": [
        "# this call will again take a few minutes, even if you batched; feel free to debug on smaller sets of dev\n",
        "predictions = predict_greedy_fewshot(gpt2_model, splits['test'], splits['train'], example_selection_method=select_similar_examples)\n",
        "print('4-shot prompting with similar examples, execution acc:', check_execution_accuracy(predictions, splits['test']))"
      ],
      "metadata": {
        "trusted": true,
        "id": "XuQ2alNKvXYV"
      },
      "execution_count": null,
      "outputs": []
    },
    {
      "cell_type": "markdown",
      "source": [
        "You should now achieve about 34% accuracy. The autograder will check that you get >30%."
      ],
      "metadata": {
        "id": "XhZjgyvKvXYV"
      }
    },
    {
      "cell_type": "markdown",
      "source": [
        "Save your predictions."
      ],
      "metadata": {
        "id": "r_DBGhe4vXYV"
      }
    },
    {
      "cell_type": "code",
      "source": [
        "save_predictions(predictions, 'similar4shot_predictions.txt')"
      ],
      "metadata": {
        "trusted": true,
        "id": "10P5M88tvXYV"
      },
      "execution_count": null,
      "outputs": []
    },
    {
      "cell_type": "markdown",
      "source": [
        "Once again, inspect some of your predictions (from prompting with similar examples) compared to the correct outputs, and describe some common types of errors in your report. Are there any differences compared to the finetuned model, or are the types of errors pretty similar? You can also check the exact match accuracy again."
      ],
      "metadata": {
        "id": "WI67kCfUvXYV"
      }
    },
    {
      "cell_type": "markdown",
      "source": [
        "Finally, do some open-ended exploration to try to improve your performance on this dataset as much as possible (whether for finetuning or prompting). No hard requirement on how much to improve (or to improve at all), but please discuss the ideas you tried + how effective they were in your report. (Be careful with the GPU memory if you're using Kaggle, though- we're already nearly capping out the GPU memory in a few places with the current settings.)\n",
        "\n",
        "A non-exhaustive list of possible ideas:\n",
        "* Use a different similarity metric for selecting examples in few-shot prompting\n",
        "* Use more examples in few-shot prompting\n",
        "* Load a different base model than GPT2-Medium, or look into calling the OpenAI API\n",
        "* Tune the hyperparameters used for finetuning\n",
        "* Try to combine few-shot prompting with finetuning"
      ],
      "metadata": {
        "id": "ZIXxc9f2vXYV"
      }
    },
    {
      "cell_type": "markdown",
      "source": [
        "Your final submission should include the following files:\n",
        "\n",
        "* hw4.ipynb (this file; please rename to match)\n",
        "* finetuned_predictions.txt\n",
        "* similar4shot_predictions.txt\n",
        "* report.pdf"
      ],
      "metadata": {
        "id": "5r-GnE85vXYV"
      }
    }
  ]
}